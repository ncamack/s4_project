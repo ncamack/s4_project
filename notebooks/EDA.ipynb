{
 "cells": [
  {
   "attachments": {},
   "cell_type": "markdown",
   "metadata": {},
   "source": [
    "### Goal\n",
    "\n",
    "Using data gathered from https://ergast.com/api/f1 about formula 1 races, drivers, and constructors from the year 1950 - 2022. I hope to create a web app that allows users to learn interesting facts about F1 history.\n",
    "\n",
    "Below you will find the Exploratory Data Analysis(EDA) for these data.\n"
   ]
  },
  {
   "attachments": {},
   "cell_type": "markdown",
   "metadata": {},
   "source": [
    "### Initialization"
   ]
  },
  {
   "cell_type": "code",
   "execution_count": 216,
   "metadata": {},
   "outputs": [],
   "source": [
    "import pandas as pd\n",
    "import plotly.express as px\n",
    "import statsmodels"
   ]
  },
  {
   "attachments": {},
   "cell_type": "markdown",
   "metadata": {},
   "source": [
    "### Load Data"
   ]
  },
  {
   "cell_type": "code",
   "execution_count": 217,
   "metadata": {},
   "outputs": [],
   "source": [
    "# Make sure you are in the correct directory\n",
    "os.getcwd()\n",
    "os.chdir('F:\\Practicum\\Sprint_4\\s4_project') # Change this to yur directory."
   ]
  },
  {
   "cell_type": "code",
   "execution_count": 218,
   "metadata": {},
   "outputs": [],
   "source": [
    "# Load CSVs into DataFrames\n",
    "constructors = pd.read_csv('f1_1950_2022_constructors.csv', encoding='Windows-1252')\n",
    "drivers = pd.read_csv('f1_1950_2022_drivers.csv', encoding='Windows-1252')\n",
    "race_results = pd.read_csv('f1_1950_2022_race_results.csv', encoding='Windows-1252')\n"
   ]
  },
  {
   "attachments": {},
   "cell_type": "markdown",
   "metadata": {},
   "source": [
    "### EDA\n",
    "##### Constructors"
   ]
  },
  {
   "cell_type": "code",
   "execution_count": 219,
   "metadata": {},
   "outputs": [
    {
     "name": "stdout",
     "output_type": "stream",
     "text": [
      "<class 'pandas.core.frame.DataFrame'>\n",
      "RangeIndex: 1091 entries, 0 to 1090\n",
      "Data columns (total 4 columns):\n",
      " #   Column          Non-Null Count  Dtype \n",
      "---  ------          --------------  ----- \n",
      " 0   constructor_id  1091 non-null   object\n",
      " 1   name            1091 non-null   object\n",
      " 2   nationality     1091 non-null   object\n",
      " 3   url             1091 non-null   object\n",
      "dtypes: object(4)\n",
      "memory usage: 34.2+ KB\n",
      "__________________________________________________________________________________\n",
      "     constructor_id                       name nationality   \n",
      "862         mclaren                    McLaren     British  \\\n",
      "921         ferrari                    Ferrari     Italian   \n",
      "1003       marussia                   Marussia     Russian   \n",
      "647          osella                     Osella     Italian   \n",
      "820         stewart                    Stewart     British   \n",
      "51              bmw                        BMW      German   \n",
      "1007         sauber                     Sauber       Swiss   \n",
      "259            alfa                 Alfa Romeo       Swiss   \n",
      "390        lotus-pw  Lotus-Pratt &amp; Whitney     British   \n",
      "708        benetton                   Benetton     Italian   \n",
      "\n",
      "                                                    url  \n",
      "862                http://en.wikipedia.org/wiki/McLaren  \n",
      "921       http://en.wikipedia.org/wiki/Scuderia_Ferrari  \n",
      "1003           http://en.wikipedia.org/wiki/Marussia_F1  \n",
      "647                 http://en.wikipedia.org/wiki/Osella  \n",
      "820     http://en.wikipedia.org/wiki/Stewart_Grand_Prix  \n",
      "51                     http://en.wikipedia.org/wiki/BMW  \n",
      "1007                http://en.wikipedia.org/wiki/Sauber  \n",
      "259   http://en.wikipedia.org/wiki/Alfa_Romeo_in_For...  \n",
      "390             http://en.wikipedia.org/wiki/Team_Lotus  \n",
      "708       http://en.wikipedia.org/wiki/Benetton_Formula  \n"
     ]
    }
   ],
   "source": [
    "# review data\n",
    "constructors.info()\n",
    "print('__________________________________________________________________________________')\n",
    "print(constructors.sample(10))"
   ]
  },
  {
   "cell_type": "code",
   "execution_count": 220,
   "metadata": {},
   "outputs": [
    {
     "data": {
      "text/plain": [
       "constructor_id    0\n",
       "name              0\n",
       "nationality       0\n",
       "url               0\n",
       "dtype: int64"
      ]
     },
     "execution_count": 220,
     "metadata": {},
     "output_type": "execute_result"
    }
   ],
   "source": [
    "# make lowercase to ensure consistency\n",
    "constructors['name'] = constructors['name'].str.lower()\n",
    "constructors['nationality'] = constructors['nationality'].str.lower()\n",
    "\n",
    "# check for and remove duplicates\n",
    "constructors = constructors.drop_duplicates()\n",
    "\n",
    "# check for null\n",
    "constructors.isnull().sum()"
   ]
  },
  {
   "attachments": {},
   "cell_type": "markdown",
   "metadata": {},
   "source": [
    "#### Drivers"
   ]
  },
  {
   "cell_type": "code",
   "execution_count": 221,
   "metadata": {},
   "outputs": [
    {
     "name": "stdout",
     "output_type": "stream",
     "text": [
      "<class 'pandas.core.frame.DataFrame'>\n",
      "RangeIndex: 2031 entries, 0 to 2030\n",
      "Data columns (total 6 columns):\n",
      " #   Column       Non-Null Count  Dtype \n",
      "---  ------       --------------  ----- \n",
      " 0   driver_id    2031 non-null   object\n",
      " 1   first_name   2031 non-null   object\n",
      " 2   last_name    2031 non-null   object\n",
      " 3   nationality  2031 non-null   object\n",
      " 4   dob          2031 non-null   object\n",
      " 5   url          2031 non-null   object\n",
      "dtypes: object(6)\n",
      "memory usage: 95.3+ KB\n",
      "__________________________________________________________________________________\n",
      "               driver_id first_name     last_name nationality         dob   \n",
      "214              bonnier         Jo       Bonnier     Swedish  1930-01-31  \\\n",
      "1186            donnelly     Martin      Donnelly     British  1964-03-26   \n",
      "425              bandini    Lorenzo       Bandini     Italian  1935-12-21   \n",
      "1287              moreno    Roberto        Moreno   Brazilian  1959-02-11   \n",
      "400    ernesto_brambilla    Ernesto     Brambilla     Italian  1934-01-31   \n",
      "1318  michael_schumacher    Michael    Schumacher      German  1969-01-03   \n",
      "386              ireland      Innes       Ireland     British  1930-06-12   \n",
      "548         jack_brabham       Jack       Brabham  Australian  1926-04-02   \n",
      "753            brambilla   Vittorio     Brambilla     Italian  1937-11-11   \n",
      "835         kozarowitzky      Mikko  Kozarowitzky     Finnish  1948-05-17   \n",
      "\n",
      "                                                    url  \n",
      "214         http://en.wikipedia.org/wiki/Joakim_Bonnier  \n",
      "1186  http://en.wikipedia.org/wiki/Martin_Donnelly_(...  \n",
      "425        http://en.wikipedia.org/wiki/Lorenzo_Bandini  \n",
      "1287        http://en.wikipedia.org/wiki/Roberto_Moreno  \n",
      "400      http://en.wikipedia.org/wiki/Ernesto_Brambilla  \n",
      "1318    http://en.wikipedia.org/wiki/Michael_Schumacher  \n",
      "386          http://en.wikipedia.org/wiki/Innes_Ireland  \n",
      "548           http://en.wikipedia.org/wiki/Jack_Brabham  \n",
      "753     http://en.wikipedia.org/wiki/Vittorio_Brambilla  \n",
      "835     http://en.wikipedia.org/wiki/Mikko_Kozarowitzky  \n"
     ]
    }
   ],
   "source": [
    "# review data\n",
    "drivers.info()\n",
    "print('__________________________________________________________________________________')\n",
    "print(drivers.sample(10))"
   ]
  },
  {
   "cell_type": "code",
   "execution_count": 222,
   "metadata": {},
   "outputs": [
    {
     "data": {
      "text/plain": [
       "driver_id      0\n",
       "first_name     0\n",
       "last_name      0\n",
       "nationality    0\n",
       "dob            0\n",
       "url            0\n",
       "dtype: int64"
      ]
     },
     "execution_count": 222,
     "metadata": {},
     "output_type": "execute_result"
    }
   ],
   "source": [
    "# Make lowercase to ensure consistency\n",
    "drivers['nationality'] = drivers['nationality'].str.lower()\n",
    "drivers['first_name'] = drivers['first_name'].str.lower()\n",
    "drivers['last_name'] = drivers['last_name'].str.lower()\n",
    "\n",
    "# fix data types\n",
    "drivers['dob'] = pd.to_datetime(drivers['dob'])\n",
    "\n",
    "# check for null\n",
    "drivers.isnull().sum()"
   ]
  },
  {
   "cell_type": "code",
   "execution_count": 223,
   "metadata": {},
   "outputs": [
    {
     "name": "stdout",
     "output_type": "stream",
     "text": [
      "<class 'pandas.core.frame.DataFrame'>\n",
      "RangeIndex: 2031 entries, 0 to 2030\n",
      "Data columns (total 6 columns):\n",
      " #   Column       Non-Null Count  Dtype         \n",
      "---  ------       --------------  -----         \n",
      " 0   driver_id    2031 non-null   object        \n",
      " 1   first_name   2031 non-null   object        \n",
      " 2   last_name    2031 non-null   object        \n",
      " 3   nationality  2031 non-null   object        \n",
      " 4   dob          2031 non-null   datetime64[ns]\n",
      " 5   url          2031 non-null   object        \n",
      "dtypes: datetime64[ns](1), object(5)\n",
      "memory usage: 95.3+ KB\n",
      "__________________________________________________________________________________\n",
      "         driver_id   first_name    last_name nationality        dob   \n",
      "1295        badoer         luca       badoer     italian 1971-01-25  \\\n",
      "1589         panis      olivier        panis      french 1966-09-02   \n",
      "1766   karthikeyan       narain  karthikeyan      indian 1977-01-14   \n",
      "291     cheesbourg         bill   cheesbourg    american 1927-06-12   \n",
      "1378          salo         mika         salo     finnish 1966-11-30   \n",
      "1014  keke_rosberg         keke      rosberg     finnish 1948-12-06   \n",
      "1424          salo         mika         salo     finnish 1966-11-30   \n",
      "749      larrousse       gérard    larrousse      french 1940-05-23   \n",
      "1765      heidfeld         nick     heidfeld      german 1977-05-10   \n",
      "744         jarier  jean-pierre       jarier      french 1946-07-10   \n",
      "\n",
      "                                                    url  \n",
      "1295           http://en.wikipedia.org/wiki/Luca_Badoer  \n",
      "1589         http://en.wikipedia.org/wiki/Olivier_Panis  \n",
      "1766    http://en.wikipedia.org/wiki/Narain_Karthikeyan  \n",
      "291        http://en.wikipedia.org/wiki/Bill_Cheesbourg  \n",
      "1378             http://en.wikipedia.org/wiki/Mika_Salo  \n",
      "1014          http://en.wikipedia.org/wiki/Keke_Rosberg  \n",
      "1424             http://en.wikipedia.org/wiki/Mika_Salo  \n",
      "749   http://en.wikipedia.org/wiki/G%C3%A9rard_Larro...  \n",
      "1765         http://en.wikipedia.org/wiki/Nick_Heidfeld  \n",
      "744     http://en.wikipedia.org/wiki/Jean-Pierre_Jarier  \n"
     ]
    }
   ],
   "source": [
    "# check work\n",
    "drivers.info()\n",
    "print('__________________________________________________________________________________')\n",
    "print(drivers.sample(10))"
   ]
  },
  {
   "attachments": {},
   "cell_type": "markdown",
   "metadata": {},
   "source": [
    "#### Race_Results\n"
   ]
  },
  {
   "cell_type": "code",
   "execution_count": 224,
   "metadata": {},
   "outputs": [
    {
     "name": "stdout",
     "output_type": "stream",
     "text": [
      "<class 'pandas.core.frame.DataFrame'>\n",
      "RangeIndex: 25387 entries, 0 to 25386\n",
      "Data columns (total 7 columns):\n",
      " #   Column       Non-Null Count  Dtype \n",
      "---  ------       --------------  ----- \n",
      " 0   season       25387 non-null  int64 \n",
      " 1   round        25387 non-null  int64 \n",
      " 2   race_name    25387 non-null  object\n",
      " 3   driver       25387 non-null  object\n",
      " 4   constructor  25387 non-null  object\n",
      " 5   grid         25387 non-null  int64 \n",
      " 6   position     25387 non-null  int64 \n",
      "dtypes: int64(4), object(3)\n",
      "memory usage: 1.4+ MB\n",
      "__________________________________________________________________________________\n",
      "       season  round                 race_name                   driver   \n",
      "5697     1975      3  South African Grand Prix              Carlos Pace  \\\n",
      "12513    1990     14        Spanish Grand Prix             Ayrton Senna   \n",
      "22032    2014     17  United States Grand Prix             Nico Rosberg   \n",
      "8049     1980     11          Dutch Grand Prix              Alain Prost   \n",
      "14180    1994      9         German Grand Prix          David Coulthard   \n",
      "18238    2005     12         German Grand Prix          David Coulthard   \n",
      "18779    2006     18      Brazilian Grand Prix        Christijan Albers   \n",
      "14433    1995      2      Argentine Grand Prix               Taki Inoue   \n",
      "42       1950      2         Monaco Grand Prix          Peter Whitehead   \n",
      "2660     1963      5        British Grand Prix  Carel Godin de Beaufort   \n",
      "\n",
      "      constructor  grid  position  \n",
      "5697      Brabham     1         4  \n",
      "12513     McLaren     1        14  \n",
      "22032    Mercedes     1         2  \n",
      "8049      McLaren    18         6  \n",
      "14180    Williams     6        13  \n",
      "18238    Red Bull    11         7  \n",
      "18779  Spyker MF1    17        14  \n",
      "14433    Footwork    26        16  \n",
      "42        Ferrari    21        20  \n",
      "2660      Porsche    21        10  \n"
     ]
    }
   ],
   "source": [
    "# review data\n",
    "race_results.info()\n",
    "print('__________________________________________________________________________________')\n",
    "print(race_results.sample(10))"
   ]
  },
  {
   "cell_type": "code",
   "execution_count": 225,
   "metadata": {},
   "outputs": [
    {
     "data": {
      "text/plain": [
       "season         0\n",
       "round          0\n",
       "race_name      0\n",
       "constructor    0\n",
       "grid           0\n",
       "position       0\n",
       "first_name     0\n",
       "last_name      0\n",
       "dtype: int64"
      ]
     },
     "execution_count": 225,
     "metadata": {},
     "output_type": "execute_result"
    }
   ],
   "source": [
    "# split drivers name into first and last in 'race_results' and add columns to match 'drivers' and save\n",
    "names = race_results['driver'].str.split(' ', expand=True)\n",
    "race_results['first_name'] = names[0]\n",
    "race_results['last_name'] = names[1]\n",
    "\n",
    "# delete driver column since new name columns have replaced it.\n",
    "race_results = race_results.drop('driver', axis=1)\n",
    "\n",
    "# make lowercase to ensure consistency\n",
    "race_results['race_name'] = race_results['race_name'].str.lower()\n",
    "race_results['first_name'] = race_results['first_name'].str.lower()\n",
    "race_results['last_name'] = race_results['last_name'].str.lower()\n",
    "race_results['constructor'] = race_results['constructor'].str.lower()\n",
    "\n",
    "# fix data types\n",
    "race_results['season'] = pd.to_datetime(race_results['season'], format='%Y')\n",
    "\n",
    "# check for null\n",
    "race_results.isnull().sum()"
   ]
  },
  {
   "cell_type": "code",
   "execution_count": 226,
   "metadata": {},
   "outputs": [
    {
     "name": "stdout",
     "output_type": "stream",
     "text": [
      "<class 'pandas.core.frame.DataFrame'>\n",
      "RangeIndex: 25387 entries, 0 to 25386\n",
      "Data columns (total 8 columns):\n",
      " #   Column       Non-Null Count  Dtype         \n",
      "---  ------       --------------  -----         \n",
      " 0   season       25387 non-null  datetime64[ns]\n",
      " 1   round        25387 non-null  int64         \n",
      " 2   race_name    25387 non-null  object        \n",
      " 3   constructor  25387 non-null  object        \n",
      " 4   grid         25387 non-null  int64         \n",
      " 5   position     25387 non-null  int64         \n",
      " 6   first_name   25387 non-null  object        \n",
      " 7   last_name    25387 non-null  object        \n",
      "dtypes: datetime64[ns](1), int64(3), object(4)\n",
      "memory usage: 1.5+ MB\n",
      "__________________________________________________________________________________\n",
      "          season  round                 race_name   constructor  grid   \n",
      "16032 1999-01-01      8        british grand prix        jordan     5  \\\n",
      "24975 2022-01-01      2  saudi arabian grand prix  haas f1 team    10   \n",
      "2249  1961-01-01      5        british grand prix  lotus-climax    27   \n",
      "5563  1974-01-01     13        italian grand prix       mclaren    19   \n",
      "19178 2008-01-01      1     australian grand prix      red bull    14   \n",
      "7592  1979-01-01      9        british grand prix        shadow    12   \n",
      "13822 1993-01-01     12        belgian grand prix      williams     2   \n",
      "13607 1993-01-01      3       european grand prix       ferrari     8   \n",
      "10121 1985-01-01      9         german grand prix       mclaren    12   \n",
      "23118 2017-01-01     10        british grand prix  haas f1 team    16   \n",
      "\n",
      "       position    first_name  last_name  \n",
      "16032         4  heinz-harald   frentzen  \n",
      "24975         9         kevin  magnussen  \n",
      "2249         24          tony      marsh  \n",
      "5563          6         denny      hulme  \n",
      "19178        17          mark     webber  \n",
      "7592         12          elio         de  \n",
      "13822         1         damon       hill  \n",
      "13607        20       gerhard     berger  \n",
      "10121         5          niki      lauda  \n",
      "23118        12         kevin  magnussen  \n"
     ]
    }
   ],
   "source": [
    "# check work\n",
    "race_results.info()\n",
    "print('__________________________________________________________________________________')\n",
    "print(race_results.sample(10))"
   ]
  },
  {
   "attachments": {},
   "cell_type": "markdown",
   "metadata": {},
   "source": [
    "### Plots\n",
    "#### Historically, which Grand Prix have been held the most often?"
   ]
  },
  {
   "cell_type": "code",
   "execution_count": 227,
   "metadata": {},
   "outputs": [
    {
     "name": "stdout",
     "output_type": "stream",
     "text": [
      "race_name\n",
      "british grand prix               73\n",
      "italian grand prix               73\n",
      "monaco grand prix                68\n",
      "belgian grand prix               67\n",
      "german grand prix                64\n",
      "french grand prix                62\n",
      "spanish grand prix               52\n",
      "canadian grand prix              51\n",
      "brazilian grand prix             48\n",
      "united states grand prix         43\n",
      "hungarian grand prix             37\n",
      "japanese grand prix              36\n",
      "australian grand prix            36\n",
      "austrian grand prix              35\n",
      "dutch grand prix                 32\n",
      "san marino grand prix            26\n",
      "south african grand prix         23\n",
      "european grand prix              23\n",
      "mexican grand prix               20\n",
      "argentine grand prix             20\n",
      "malaysian grand prix             19\n",
      "portuguese grand prix            18\n",
      "bahrain grand prix               18\n",
      "chinese grand prix               16\n",
      "abu dhabi grand prix             14\n",
      "singapore grand prix             13\n",
      "indianapolis 500                 11\n",
      "turkish grand prix                9\n",
      "united states grand prix west     8\n",
      "russian grand prix                8\n",
      "detroit grand prix                7\n",
      "swiss grand prix                  6\n",
      "swedish grand prix                6\n",
      "azerbaijan grand prix             5\n",
      "korean grand prix                 4\n",
      "indian grand prix                 3\n",
      "emilia romagna grand prix         3\n",
      "caesars palace grand prix         2\n",
      "saudi arabian grand prix          2\n",
      "mexico city grand prix            2\n",
      "luxembourg grand prix             2\n",
      "pacific grand prix                2\n",
      "styrian grand prix                2\n",
      "eifel grand prix                  1\n",
      "tuscan grand prix                 1\n",
      "dallas grand prix                 1\n",
      "são paulo grand prix              1\n",
      "pescara grand prix                1\n",
      "miami grand prix                  1\n",
      "sakhir grand prix                 1\n",
      "moroccan grand prix               1\n",
      "qatar grand prix                  1\n",
      "70th anniversary grand prix       1\n",
      "dtype: int64\n",
      "_____________________________________________________________________________________\n",
      "There have been 53 uniquely named GP!\n"
     ]
    }
   ],
   "source": [
    "# group and count unique GP\n",
    "unique_gp = race_results.groupby(['race_name', 'season']).size().groupby('race_name').size().sort_values(ascending=False)\n",
    "print(unique_gp)\n",
    "print('_____________________________________________________________________________________')\n",
    "# count total unique gp\n",
    "print(f\"There have been {len(unique_gp)} uniquely named GP!\")\n"
   ]
  },
  {
   "cell_type": "code",
   "execution_count": null,
   "metadata": {},
   "outputs": [
    {
     "data": {
      "application/vnd.plotly.v1+json": {
       "config": {
        "plotlyServerURL": "https://plot.ly"
       },
       "data": [
        {
         "alignmentgroup": "True",
         "bingroup": "x",
         "histfunc": "sum",
         "hovertemplate": "race_name=%{x}<br>sum of y=%{y}<extra></extra>",
         "legendgroup": "",
         "marker": {
          "color": "#636efa",
          "pattern": {
           "shape": ""
          }
         },
         "name": "",
         "offsetgroup": "",
         "orientation": "v",
         "showlegend": false,
         "type": "histogram",
         "x": [
          "british grand prix",
          "italian grand prix",
          "monaco grand prix",
          "belgian grand prix",
          "german grand prix",
          "french grand prix",
          "spanish grand prix",
          "canadian grand prix",
          "brazilian grand prix",
          "united states grand prix",
          "hungarian grand prix",
          "japanese grand prix",
          "australian grand prix",
          "austrian grand prix",
          "dutch grand prix",
          "san marino grand prix",
          "south african grand prix",
          "european grand prix",
          "mexican grand prix",
          "argentine grand prix",
          "malaysian grand prix",
          "portuguese grand prix",
          "bahrain grand prix",
          "chinese grand prix",
          "abu dhabi grand prix",
          "singapore grand prix",
          "indianapolis 500",
          "turkish grand prix",
          "united states grand prix west",
          "russian grand prix",
          "detroit grand prix",
          "swiss grand prix",
          "swedish grand prix",
          "azerbaijan grand prix",
          "korean grand prix",
          "indian grand prix",
          "emilia romagna grand prix",
          "caesars palace grand prix",
          "saudi arabian grand prix",
          "mexico city grand prix",
          "luxembourg grand prix",
          "pacific grand prix",
          "styrian grand prix",
          "eifel grand prix",
          "tuscan grand prix",
          "dallas grand prix",
          "são paulo grand prix",
          "pescara grand prix",
          "miami grand prix",
          "sakhir grand prix",
          "moroccan grand prix",
          "qatar grand prix",
          "70th anniversary grand prix"
         ],
         "xaxis": "x",
         "y": [
          73,
          73,
          68,
          67,
          64,
          62,
          52,
          51,
          48,
          43,
          37,
          36,
          36,
          35,
          32,
          26,
          23,
          23,
          20,
          20,
          19,
          18,
          18,
          16,
          14,
          13,
          11,
          9,
          8,
          8,
          7,
          6,
          6,
          5,
          4,
          3,
          3,
          2,
          2,
          2,
          2,
          2,
          2,
          1,
          1,
          1,
          1,
          1,
          1,
          1,
          1,
          1,
          1
         ],
         "yaxis": "y"
        }
       ],
       "layout": {
        "annotations": [
         {
          "showarrow": false,
          "text": "73",
          "x": 0,
          "y": -3
         },
         {
          "showarrow": false,
          "text": "73",
          "x": 1,
          "y": -3
         },
         {
          "showarrow": false,
          "text": "68",
          "x": 2,
          "y": -3
         },
         {
          "showarrow": false,
          "text": "67",
          "x": 3,
          "y": -3
         },
         {
          "showarrow": false,
          "text": "64",
          "x": 4,
          "y": -3
         },
         {
          "showarrow": false,
          "text": "62",
          "x": 5,
          "y": -3
         },
         {
          "showarrow": false,
          "text": "52",
          "x": 6,
          "y": -3
         },
         {
          "showarrow": false,
          "text": "51",
          "x": 7,
          "y": -3
         },
         {
          "showarrow": false,
          "text": "48",
          "x": 8,
          "y": -3
         },
         {
          "showarrow": false,
          "text": "43",
          "x": 9,
          "y": -3
         },
         {
          "showarrow": false,
          "text": "37",
          "x": 10,
          "y": -3
         },
         {
          "showarrow": false,
          "text": "36",
          "x": 11,
          "y": -3
         },
         {
          "showarrow": false,
          "text": "36",
          "x": 12,
          "y": -3
         },
         {
          "showarrow": false,
          "text": "35",
          "x": 13,
          "y": -3
         },
         {
          "showarrow": false,
          "text": "32",
          "x": 14,
          "y": -3
         },
         {
          "showarrow": false,
          "text": "26",
          "x": 15,
          "y": -3
         },
         {
          "showarrow": false,
          "text": "23",
          "x": 16,
          "y": -3
         },
         {
          "showarrow": false,
          "text": "23",
          "x": 17,
          "y": -3
         },
         {
          "showarrow": false,
          "text": "20",
          "x": 18,
          "y": -3
         },
         {
          "showarrow": false,
          "text": "20",
          "x": 19,
          "y": -3
         },
         {
          "showarrow": false,
          "text": "19",
          "x": 20,
          "y": -3
         },
         {
          "showarrow": false,
          "text": "18",
          "x": 21,
          "y": -3
         },
         {
          "showarrow": false,
          "text": "18",
          "x": 22,
          "y": -3
         },
         {
          "showarrow": false,
          "text": "16",
          "x": 23,
          "y": -3
         },
         {
          "showarrow": false,
          "text": "14",
          "x": 24,
          "y": -3
         },
         {
          "showarrow": false,
          "text": "13",
          "x": 25,
          "y": -3
         },
         {
          "showarrow": false,
          "text": "11",
          "x": 26,
          "y": -3
         },
         {
          "showarrow": false,
          "text": "9",
          "x": 27,
          "y": -3
         },
         {
          "showarrow": false,
          "text": "8",
          "x": 28,
          "y": -3
         },
         {
          "showarrow": false,
          "text": "8",
          "x": 29,
          "y": -3
         },
         {
          "showarrow": false,
          "text": "7",
          "x": 30,
          "y": -3
         },
         {
          "showarrow": false,
          "text": "6",
          "x": 31,
          "y": -3
         },
         {
          "showarrow": false,
          "text": "6",
          "x": 32,
          "y": -3
         },
         {
          "showarrow": false,
          "text": "5",
          "x": 33,
          "y": -3
         },
         {
          "showarrow": false,
          "text": "4",
          "x": 34,
          "y": -3
         },
         {
          "showarrow": false,
          "text": "3",
          "x": 35,
          "y": -3
         },
         {
          "showarrow": false,
          "text": "3",
          "x": 36,
          "y": -3
         },
         {
          "showarrow": false,
          "text": "2",
          "x": 37,
          "y": -3
         },
         {
          "showarrow": false,
          "text": "2",
          "x": 38,
          "y": -3
         },
         {
          "showarrow": false,
          "text": "2",
          "x": 39,
          "y": -3
         },
         {
          "showarrow": false,
          "text": "2",
          "x": 40,
          "y": -3
         },
         {
          "showarrow": false,
          "text": "2",
          "x": 41,
          "y": -3
         },
         {
          "showarrow": false,
          "text": "2",
          "x": 42,
          "y": -3
         },
         {
          "showarrow": false,
          "text": "1",
          "x": 43,
          "y": -3
         },
         {
          "showarrow": false,
          "text": "1",
          "x": 44,
          "y": -3
         },
         {
          "showarrow": false,
          "text": "1",
          "x": 45,
          "y": -3
         },
         {
          "showarrow": false,
          "text": "1",
          "x": 46,
          "y": -3
         },
         {
          "showarrow": false,
          "text": "1",
          "x": 47,
          "y": -3
         },
         {
          "showarrow": false,
          "text": "1",
          "x": 48,
          "y": -3
         },
         {
          "showarrow": false,
          "text": "1",
          "x": 49,
          "y": -3
         },
         {
          "showarrow": false,
          "text": "1",
          "x": 50,
          "y": -3
         },
         {
          "showarrow": false,
          "text": "1",
          "x": 51,
          "y": -3
         },
         {
          "showarrow": false,
          "text": "1",
          "x": 52,
          "y": -3
         }
        ],
        "barmode": "relative",
        "legend": {
         "tracegroupgap": 0
        },
        "margin": {
         "t": 60
        },
        "template": {
         "data": {
          "bar": [
           {
            "error_x": {
             "color": "#2a3f5f"
            },
            "error_y": {
             "color": "#2a3f5f"
            },
            "marker": {
             "line": {
              "color": "#E5ECF6",
              "width": 0.5
             },
             "pattern": {
              "fillmode": "overlay",
              "size": 10,
              "solidity": 0.2
             }
            },
            "type": "bar"
           }
          ],
          "barpolar": [
           {
            "marker": {
             "line": {
              "color": "#E5ECF6",
              "width": 0.5
             },
             "pattern": {
              "fillmode": "overlay",
              "size": 10,
              "solidity": 0.2
             }
            },
            "type": "barpolar"
           }
          ],
          "carpet": [
           {
            "aaxis": {
             "endlinecolor": "#2a3f5f",
             "gridcolor": "white",
             "linecolor": "white",
             "minorgridcolor": "white",
             "startlinecolor": "#2a3f5f"
            },
            "baxis": {
             "endlinecolor": "#2a3f5f",
             "gridcolor": "white",
             "linecolor": "white",
             "minorgridcolor": "white",
             "startlinecolor": "#2a3f5f"
            },
            "type": "carpet"
           }
          ],
          "choropleth": [
           {
            "colorbar": {
             "outlinewidth": 0,
             "ticks": ""
            },
            "type": "choropleth"
           }
          ],
          "contour": [
           {
            "colorbar": {
             "outlinewidth": 0,
             "ticks": ""
            },
            "colorscale": [
             [
              0,
              "#0d0887"
             ],
             [
              0.1111111111111111,
              "#46039f"
             ],
             [
              0.2222222222222222,
              "#7201a8"
             ],
             [
              0.3333333333333333,
              "#9c179e"
             ],
             [
              0.4444444444444444,
              "#bd3786"
             ],
             [
              0.5555555555555556,
              "#d8576b"
             ],
             [
              0.6666666666666666,
              "#ed7953"
             ],
             [
              0.7777777777777778,
              "#fb9f3a"
             ],
             [
              0.8888888888888888,
              "#fdca26"
             ],
             [
              1,
              "#f0f921"
             ]
            ],
            "type": "contour"
           }
          ],
          "contourcarpet": [
           {
            "colorbar": {
             "outlinewidth": 0,
             "ticks": ""
            },
            "type": "contourcarpet"
           }
          ],
          "heatmap": [
           {
            "colorbar": {
             "outlinewidth": 0,
             "ticks": ""
            },
            "colorscale": [
             [
              0,
              "#0d0887"
             ],
             [
              0.1111111111111111,
              "#46039f"
             ],
             [
              0.2222222222222222,
              "#7201a8"
             ],
             [
              0.3333333333333333,
              "#9c179e"
             ],
             [
              0.4444444444444444,
              "#bd3786"
             ],
             [
              0.5555555555555556,
              "#d8576b"
             ],
             [
              0.6666666666666666,
              "#ed7953"
             ],
             [
              0.7777777777777778,
              "#fb9f3a"
             ],
             [
              0.8888888888888888,
              "#fdca26"
             ],
             [
              1,
              "#f0f921"
             ]
            ],
            "type": "heatmap"
           }
          ],
          "heatmapgl": [
           {
            "colorbar": {
             "outlinewidth": 0,
             "ticks": ""
            },
            "colorscale": [
             [
              0,
              "#0d0887"
             ],
             [
              0.1111111111111111,
              "#46039f"
             ],
             [
              0.2222222222222222,
              "#7201a8"
             ],
             [
              0.3333333333333333,
              "#9c179e"
             ],
             [
              0.4444444444444444,
              "#bd3786"
             ],
             [
              0.5555555555555556,
              "#d8576b"
             ],
             [
              0.6666666666666666,
              "#ed7953"
             ],
             [
              0.7777777777777778,
              "#fb9f3a"
             ],
             [
              0.8888888888888888,
              "#fdca26"
             ],
             [
              1,
              "#f0f921"
             ]
            ],
            "type": "heatmapgl"
           }
          ],
          "histogram": [
           {
            "marker": {
             "pattern": {
              "fillmode": "overlay",
              "size": 10,
              "solidity": 0.2
             }
            },
            "type": "histogram"
           }
          ],
          "histogram2d": [
           {
            "colorbar": {
             "outlinewidth": 0,
             "ticks": ""
            },
            "colorscale": [
             [
              0,
              "#0d0887"
             ],
             [
              0.1111111111111111,
              "#46039f"
             ],
             [
              0.2222222222222222,
              "#7201a8"
             ],
             [
              0.3333333333333333,
              "#9c179e"
             ],
             [
              0.4444444444444444,
              "#bd3786"
             ],
             [
              0.5555555555555556,
              "#d8576b"
             ],
             [
              0.6666666666666666,
              "#ed7953"
             ],
             [
              0.7777777777777778,
              "#fb9f3a"
             ],
             [
              0.8888888888888888,
              "#fdca26"
             ],
             [
              1,
              "#f0f921"
             ]
            ],
            "type": "histogram2d"
           }
          ],
          "histogram2dcontour": [
           {
            "colorbar": {
             "outlinewidth": 0,
             "ticks": ""
            },
            "colorscale": [
             [
              0,
              "#0d0887"
             ],
             [
              0.1111111111111111,
              "#46039f"
             ],
             [
              0.2222222222222222,
              "#7201a8"
             ],
             [
              0.3333333333333333,
              "#9c179e"
             ],
             [
              0.4444444444444444,
              "#bd3786"
             ],
             [
              0.5555555555555556,
              "#d8576b"
             ],
             [
              0.6666666666666666,
              "#ed7953"
             ],
             [
              0.7777777777777778,
              "#fb9f3a"
             ],
             [
              0.8888888888888888,
              "#fdca26"
             ],
             [
              1,
              "#f0f921"
             ]
            ],
            "type": "histogram2dcontour"
           }
          ],
          "mesh3d": [
           {
            "colorbar": {
             "outlinewidth": 0,
             "ticks": ""
            },
            "type": "mesh3d"
           }
          ],
          "parcoords": [
           {
            "line": {
             "colorbar": {
              "outlinewidth": 0,
              "ticks": ""
             }
            },
            "type": "parcoords"
           }
          ],
          "pie": [
           {
            "automargin": true,
            "type": "pie"
           }
          ],
          "scatter": [
           {
            "fillpattern": {
             "fillmode": "overlay",
             "size": 10,
             "solidity": 0.2
            },
            "type": "scatter"
           }
          ],
          "scatter3d": [
           {
            "line": {
             "colorbar": {
              "outlinewidth": 0,
              "ticks": ""
             }
            },
            "marker": {
             "colorbar": {
              "outlinewidth": 0,
              "ticks": ""
             }
            },
            "type": "scatter3d"
           }
          ],
          "scattercarpet": [
           {
            "marker": {
             "colorbar": {
              "outlinewidth": 0,
              "ticks": ""
             }
            },
            "type": "scattercarpet"
           }
          ],
          "scattergeo": [
           {
            "marker": {
             "colorbar": {
              "outlinewidth": 0,
              "ticks": ""
             }
            },
            "type": "scattergeo"
           }
          ],
          "scattergl": [
           {
            "marker": {
             "colorbar": {
              "outlinewidth": 0,
              "ticks": ""
             }
            },
            "type": "scattergl"
           }
          ],
          "scattermapbox": [
           {
            "marker": {
             "colorbar": {
              "outlinewidth": 0,
              "ticks": ""
             }
            },
            "type": "scattermapbox"
           }
          ],
          "scatterpolar": [
           {
            "marker": {
             "colorbar": {
              "outlinewidth": 0,
              "ticks": ""
             }
            },
            "type": "scatterpolar"
           }
          ],
          "scatterpolargl": [
           {
            "marker": {
             "colorbar": {
              "outlinewidth": 0,
              "ticks": ""
             }
            },
            "type": "scatterpolargl"
           }
          ],
          "scatterternary": [
           {
            "marker": {
             "colorbar": {
              "outlinewidth": 0,
              "ticks": ""
             }
            },
            "type": "scatterternary"
           }
          ],
          "surface": [
           {
            "colorbar": {
             "outlinewidth": 0,
             "ticks": ""
            },
            "colorscale": [
             [
              0,
              "#0d0887"
             ],
             [
              0.1111111111111111,
              "#46039f"
             ],
             [
              0.2222222222222222,
              "#7201a8"
             ],
             [
              0.3333333333333333,
              "#9c179e"
             ],
             [
              0.4444444444444444,
              "#bd3786"
             ],
             [
              0.5555555555555556,
              "#d8576b"
             ],
             [
              0.6666666666666666,
              "#ed7953"
             ],
             [
              0.7777777777777778,
              "#fb9f3a"
             ],
             [
              0.8888888888888888,
              "#fdca26"
             ],
             [
              1,
              "#f0f921"
             ]
            ],
            "type": "surface"
           }
          ],
          "table": [
           {
            "cells": {
             "fill": {
              "color": "#EBF0F8"
             },
             "line": {
              "color": "white"
             }
            },
            "header": {
             "fill": {
              "color": "#C8D4E3"
             },
             "line": {
              "color": "white"
             }
            },
            "type": "table"
           }
          ]
         },
         "layout": {
          "annotationdefaults": {
           "arrowcolor": "#2a3f5f",
           "arrowhead": 0,
           "arrowwidth": 1
          },
          "autotypenumbers": "strict",
          "coloraxis": {
           "colorbar": {
            "outlinewidth": 0,
            "ticks": ""
           }
          },
          "colorscale": {
           "diverging": [
            [
             0,
             "#8e0152"
            ],
            [
             0.1,
             "#c51b7d"
            ],
            [
             0.2,
             "#de77ae"
            ],
            [
             0.3,
             "#f1b6da"
            ],
            [
             0.4,
             "#fde0ef"
            ],
            [
             0.5,
             "#f7f7f7"
            ],
            [
             0.6,
             "#e6f5d0"
            ],
            [
             0.7,
             "#b8e186"
            ],
            [
             0.8,
             "#7fbc41"
            ],
            [
             0.9,
             "#4d9221"
            ],
            [
             1,
             "#276419"
            ]
           ],
           "sequential": [
            [
             0,
             "#0d0887"
            ],
            [
             0.1111111111111111,
             "#46039f"
            ],
            [
             0.2222222222222222,
             "#7201a8"
            ],
            [
             0.3333333333333333,
             "#9c179e"
            ],
            [
             0.4444444444444444,
             "#bd3786"
            ],
            [
             0.5555555555555556,
             "#d8576b"
            ],
            [
             0.6666666666666666,
             "#ed7953"
            ],
            [
             0.7777777777777778,
             "#fb9f3a"
            ],
            [
             0.8888888888888888,
             "#fdca26"
            ],
            [
             1,
             "#f0f921"
            ]
           ],
           "sequentialminus": [
            [
             0,
             "#0d0887"
            ],
            [
             0.1111111111111111,
             "#46039f"
            ],
            [
             0.2222222222222222,
             "#7201a8"
            ],
            [
             0.3333333333333333,
             "#9c179e"
            ],
            [
             0.4444444444444444,
             "#bd3786"
            ],
            [
             0.5555555555555556,
             "#d8576b"
            ],
            [
             0.6666666666666666,
             "#ed7953"
            ],
            [
             0.7777777777777778,
             "#fb9f3a"
            ],
            [
             0.8888888888888888,
             "#fdca26"
            ],
            [
             1,
             "#f0f921"
            ]
           ]
          },
          "colorway": [
           "#636efa",
           "#EF553B",
           "#00cc96",
           "#ab63fa",
           "#FFA15A",
           "#19d3f3",
           "#FF6692",
           "#B6E880",
           "#FF97FF",
           "#FECB52"
          ],
          "font": {
           "color": "#2a3f5f"
          },
          "geo": {
           "bgcolor": "white",
           "lakecolor": "white",
           "landcolor": "#E5ECF6",
           "showlakes": true,
           "showland": true,
           "subunitcolor": "white"
          },
          "hoverlabel": {
           "align": "left"
          },
          "hovermode": "closest",
          "mapbox": {
           "style": "light"
          },
          "paper_bgcolor": "white",
          "plot_bgcolor": "#E5ECF6",
          "polar": {
           "angularaxis": {
            "gridcolor": "white",
            "linecolor": "white",
            "ticks": ""
           },
           "bgcolor": "#E5ECF6",
           "radialaxis": {
            "gridcolor": "white",
            "linecolor": "white",
            "ticks": ""
           }
          },
          "scene": {
           "xaxis": {
            "backgroundcolor": "#E5ECF6",
            "gridcolor": "white",
            "gridwidth": 2,
            "linecolor": "white",
            "showbackground": true,
            "ticks": "",
            "zerolinecolor": "white"
           },
           "yaxis": {
            "backgroundcolor": "#E5ECF6",
            "gridcolor": "white",
            "gridwidth": 2,
            "linecolor": "white",
            "showbackground": true,
            "ticks": "",
            "zerolinecolor": "white"
           },
           "zaxis": {
            "backgroundcolor": "#E5ECF6",
            "gridcolor": "white",
            "gridwidth": 2,
            "linecolor": "white",
            "showbackground": true,
            "ticks": "",
            "zerolinecolor": "white"
           }
          },
          "shapedefaults": {
           "line": {
            "color": "#2a3f5f"
           }
          },
          "ternary": {
           "aaxis": {
            "gridcolor": "white",
            "linecolor": "white",
            "ticks": ""
           },
           "baxis": {
            "gridcolor": "white",
            "linecolor": "white",
            "ticks": ""
           },
           "bgcolor": "#E5ECF6",
           "caxis": {
            "gridcolor": "white",
            "linecolor": "white",
            "ticks": ""
           }
          },
          "title": {
           "x": 0.05
          },
          "xaxis": {
           "automargin": true,
           "gridcolor": "white",
           "linecolor": "white",
           "ticks": "",
           "title": {
            "standoff": 15
           },
           "zerolinecolor": "white",
           "zerolinewidth": 2
          },
          "yaxis": {
           "automargin": true,
           "gridcolor": "white",
           "linecolor": "white",
           "ticks": "",
           "title": {
            "standoff": 15
           },
           "zerolinecolor": "white",
           "zerolinewidth": 2
          }
         }
        },
        "title": {
         "text": "Frequency of Grand Prix"
        },
        "xaxis": {
         "anchor": "y",
         "domain": [
          0,
          1
         ],
         "title": {
          "text": "Grand Prix"
         }
        },
        "yaxis": {
         "anchor": "x",
         "domain": [
          0,
          1
         ],
         "title": {
          "text": "Frequency"
         }
        }
       }
      }
     },
     "metadata": {},
     "output_type": "display_data"
    }
   ],
   "source": [
    "# plot histogram\n",
    "gp_frequency = px.histogram(unique_gp, x=unique_gp.index, y=unique_gp.values)\n",
    "\n",
    "# update histogram layout\n",
    "gp_frequency.update_layout(\n",
    "    title=\"Frequency of Grand Prix\",\n",
    "    xaxis_title=\"Grand Prix\",\n",
    "    yaxis_title=\"Frequency\"\n",
    ")\n",
    "\n",
    "for i, value in enumerate(unique_gp.values):\n",
    "    gp_frequency.add_annotation(x=i, y=-3, text=str(value), showarrow=False)\n",
    "\n",
    "gp_frequency.show()"
   ]
  },
  {
   "attachments": {},
   "cell_type": "markdown",
   "metadata": {},
   "source": [
    "#### Winning, Podiums by Driver and Country"
   ]
  },
  {
   "cell_type": "code",
   "execution_count": 229,
   "metadata": {},
   "outputs": [
    {
     "name": "stdout",
     "output_type": "stream",
     "text": [
      "     last_name first_name  podium_count\n",
      "0        albon  alexander             2\n",
      "1     alboreto    michele            23\n",
      "2        alesi       jean            32\n",
      "3      allison      cliff             1\n",
      "4       alonso   fernando            98\n",
      "..         ...        ...           ...\n",
      "209     watson       john            20\n",
      "210     webber       mark            42\n",
      "211  whitehead      peter             1\n",
      "212     wisell      reine             1\n",
      "213       wurz  alexander             3\n",
      "\n",
      "[214 rows x 3 columns]\n",
      "_____________________________________________________________________________________\n",
      "\n",
      "last_name  first_name  position\n",
      "alboreto   michele     1            5\n",
      "alesi      jean        1            1\n",
      "alonso     fernando    1           32\n",
      "andretti   mario       1           12\n",
      "arnoux     rené        1            7\n",
      "                                   ..\n",
      "vukovich   bill        1            2\n",
      "wallard    lee         1            1\n",
      "ward       rodger      1            1\n",
      "watson     john        1            5\n",
      "webber     mark        1            9\n",
      "Length: 113, dtype: int64\n"
     ]
    }
   ],
   "source": [
    "# filter data - driver podiums and wins\n",
    "podium_race_results = race_results[race_results['position'].isin([1, 2, 3])]\n",
    "winner_race_results = race_results[race_results['position'].isin([1])]\n",
    "\n",
    "# group and count podiums\n",
    "drivers_podiums = podium_race_results.groupby(['last_name', 'first_name']).size().reset_index(name='podium_count')\n",
    "print(drivers_podiums)\n",
    "print('_____________________________________________________________________________________')\n",
    "print()\n",
    "\n",
    "# group and count winners\n",
    "drivers_winners = winner_race_results.groupby(['last_name', 'first_name', 'position']).size()\n",
    "print(drivers_winners)"
   ]
  },
  {
   "cell_type": "code",
   "execution_count": 230,
   "metadata": {},
   "outputs": [
    {
     "name": "stdout",
     "output_type": "stream",
     "text": [
      "nationality\n",
      "american          7\n",
      "argentine         2\n",
      "australian        4\n",
      "austrian          3\n",
      "belgian           2\n",
      "brazilian         6\n",
      "british          17\n",
      "canadian          1\n",
      "dutch             1\n",
      "finnish           5\n",
      "french           12\n",
      "german            6\n",
      "italian          12\n",
      "mexican           2\n",
      "monegasque        1\n",
      "new zealander     2\n",
      "polish            1\n",
      "south african     1\n",
      "spanish           2\n",
      "swedish           2\n",
      "swiss             2\n",
      "venezuelan        1\n",
      "dtype: int64\n"
     ]
    }
   ],
   "source": [
    "# merge DFs\n",
    "driver_race_merge = pd.merge(race_results, drivers, left_on=['first_name', 'last_name'], right_on=['first_name', 'last_name'])\n",
    "\n",
    "# filter data - county podiums and wins - drop duplicates\n",
    "driver_race_merge_filtered = driver_race_merge[driver_race_merge['position'] == 1]\n",
    "remove_driver_duplicates = driver_race_merge_filtered.drop_duplicates(subset=['first_name', 'last_name'])\n",
    "winning_nationalities = remove_driver_duplicates.groupby('nationality').size()\n",
    "print(winning_nationalities)"
   ]
  },
  {
   "cell_type": "code",
   "execution_count": 231,
   "metadata": {},
   "outputs": [
    {
     "name": "stderr",
     "output_type": "stream",
     "text": [
      "C:\\Users\\MAHT DAYMUHN\\AppData\\Local\\Temp\\ipykernel_26088\\519041209.py:3: SettingWithCopyWarning:\n",
      "\n",
      "\n",
      "A value is trying to be set on a copy of a slice from a DataFrame.\n",
      "Try using .loc[row_indexer,col_indexer] = value instead\n",
      "\n",
      "See the caveats in the documentation: https://pandas.pydata.org/pandas-docs/stable/user_guide/indexing.html#returning-a-view-versus-a-copy\n",
      "\n"
     ]
    },
    {
     "data": {
      "application/vnd.plotly.v1+json": {
       "config": {
        "plotlyServerURL": "https://plot.ly"
       },
       "data": [
        {
         "alignmentgroup": "True",
         "hovertemplate": "Driver=%{x}<br>Total Podium Count=%{y}<extra></extra>",
         "legendgroup": "",
         "marker": {
          "color": "#636efa",
          "pattern": {
           "shape": ""
          }
         },
         "name": "",
         "offsetgroup": "",
         "orientation": "v",
         "showlegend": false,
         "textposition": "auto",
         "type": "bar",
         "x": [
          "lewis hamilton",
          "michael schumacher",
          "sebastian vettel",
          "alain prost",
          "kimi räikkönen",
          "fernando alonso",
          "ayrton senna",
          "max verstappen",
          "rubens barrichello",
          "valtteri bottas",
          "david coulthard",
          "nelson piquet",
          "nigel mansell",
          "nico rosberg",
          "niki lauda",
          "mika häkkinen",
          "jenson button",
          "gerhard berger",
          "carlos reutemann",
          "jackie stewart",
          "damon hill",
          "mark webber",
          "felipe massa",
          "riccardo patrese",
          "graham hill",
          "emerson fittipaldi",
          "juan fangio",
          "jody scheckter",
          "denny hulme",
          "jacques laffite",
          "daniel ricciardo",
          "jim clark",
          "jean alesi",
          "jack brabham",
          "juan pablo",
          "clay regazzoni",
          "bruce mclaren",
          "ralf schumacher",
          "eddie irvine",
          "ronnie peterson",
          "sergio pérez",
          "jacky ickx",
          "stirling moss",
          "john surtees",
          "alan jones",
          "charles leclerc",
          "james hunt",
          "jacques villeneuve",
          "michele alboreto",
          "rené arnoux",
          "nino farina",
          "john watson",
          "patrick depailler",
          "dan gurney",
          "mario andretti",
          "giancarlo fisichella",
          "mike hawthorn",
          "heinz-harald frentzen",
          "alberto ascari",
          "keke rosberg",
          "phil hill",
          "thierry boutsen",
          "josé froilán",
          "carlos sainz",
          "richie ginther",
          "didier pironi",
          "françois cevert",
          "jochen rindt",
          "gilles villeneuve",
          "nick heidfeld",
          "robert kubica",
          "stefan johansson",
          "patrick tambay",
          "jarno trulli",
          "chris amon"
         ],
         "xaxis": "x",
         "y": [
          191,
          155,
          122,
          106,
          103,
          98,
          80,
          77,
          68,
          67,
          62,
          61,
          59,
          57,
          54,
          51,
          50,
          48,
          45,
          43,
          42,
          42,
          41,
          37,
          36,
          35,
          35,
          33,
          33,
          33,
          32,
          32,
          32,
          31,
          30,
          28,
          27,
          27,
          26,
          26,
          26,
          25,
          24,
          24,
          24,
          24,
          23,
          23,
          23,
          22,
          20,
          20,
          19,
          19,
          19,
          19,
          18,
          18,
          17,
          17,
          16,
          15,
          15,
          15,
          14,
          13,
          13,
          13,
          13,
          13,
          12,
          12,
          11,
          11,
          11
         ],
         "yaxis": "y"
        }
       ],
       "layout": {
        "barmode": "relative",
        "legend": {
         "tracegroupgap": 0
        },
        "template": {
         "data": {
          "bar": [
           {
            "error_x": {
             "color": "#2a3f5f"
            },
            "error_y": {
             "color": "#2a3f5f"
            },
            "marker": {
             "line": {
              "color": "#E5ECF6",
              "width": 0.5
             },
             "pattern": {
              "fillmode": "overlay",
              "size": 10,
              "solidity": 0.2
             }
            },
            "type": "bar"
           }
          ],
          "barpolar": [
           {
            "marker": {
             "line": {
              "color": "#E5ECF6",
              "width": 0.5
             },
             "pattern": {
              "fillmode": "overlay",
              "size": 10,
              "solidity": 0.2
             }
            },
            "type": "barpolar"
           }
          ],
          "carpet": [
           {
            "aaxis": {
             "endlinecolor": "#2a3f5f",
             "gridcolor": "white",
             "linecolor": "white",
             "minorgridcolor": "white",
             "startlinecolor": "#2a3f5f"
            },
            "baxis": {
             "endlinecolor": "#2a3f5f",
             "gridcolor": "white",
             "linecolor": "white",
             "minorgridcolor": "white",
             "startlinecolor": "#2a3f5f"
            },
            "type": "carpet"
           }
          ],
          "choropleth": [
           {
            "colorbar": {
             "outlinewidth": 0,
             "ticks": ""
            },
            "type": "choropleth"
           }
          ],
          "contour": [
           {
            "colorbar": {
             "outlinewidth": 0,
             "ticks": ""
            },
            "colorscale": [
             [
              0,
              "#0d0887"
             ],
             [
              0.1111111111111111,
              "#46039f"
             ],
             [
              0.2222222222222222,
              "#7201a8"
             ],
             [
              0.3333333333333333,
              "#9c179e"
             ],
             [
              0.4444444444444444,
              "#bd3786"
             ],
             [
              0.5555555555555556,
              "#d8576b"
             ],
             [
              0.6666666666666666,
              "#ed7953"
             ],
             [
              0.7777777777777778,
              "#fb9f3a"
             ],
             [
              0.8888888888888888,
              "#fdca26"
             ],
             [
              1,
              "#f0f921"
             ]
            ],
            "type": "contour"
           }
          ],
          "contourcarpet": [
           {
            "colorbar": {
             "outlinewidth": 0,
             "ticks": ""
            },
            "type": "contourcarpet"
           }
          ],
          "heatmap": [
           {
            "colorbar": {
             "outlinewidth": 0,
             "ticks": ""
            },
            "colorscale": [
             [
              0,
              "#0d0887"
             ],
             [
              0.1111111111111111,
              "#46039f"
             ],
             [
              0.2222222222222222,
              "#7201a8"
             ],
             [
              0.3333333333333333,
              "#9c179e"
             ],
             [
              0.4444444444444444,
              "#bd3786"
             ],
             [
              0.5555555555555556,
              "#d8576b"
             ],
             [
              0.6666666666666666,
              "#ed7953"
             ],
             [
              0.7777777777777778,
              "#fb9f3a"
             ],
             [
              0.8888888888888888,
              "#fdca26"
             ],
             [
              1,
              "#f0f921"
             ]
            ],
            "type": "heatmap"
           }
          ],
          "heatmapgl": [
           {
            "colorbar": {
             "outlinewidth": 0,
             "ticks": ""
            },
            "colorscale": [
             [
              0,
              "#0d0887"
             ],
             [
              0.1111111111111111,
              "#46039f"
             ],
             [
              0.2222222222222222,
              "#7201a8"
             ],
             [
              0.3333333333333333,
              "#9c179e"
             ],
             [
              0.4444444444444444,
              "#bd3786"
             ],
             [
              0.5555555555555556,
              "#d8576b"
             ],
             [
              0.6666666666666666,
              "#ed7953"
             ],
             [
              0.7777777777777778,
              "#fb9f3a"
             ],
             [
              0.8888888888888888,
              "#fdca26"
             ],
             [
              1,
              "#f0f921"
             ]
            ],
            "type": "heatmapgl"
           }
          ],
          "histogram": [
           {
            "marker": {
             "pattern": {
              "fillmode": "overlay",
              "size": 10,
              "solidity": 0.2
             }
            },
            "type": "histogram"
           }
          ],
          "histogram2d": [
           {
            "colorbar": {
             "outlinewidth": 0,
             "ticks": ""
            },
            "colorscale": [
             [
              0,
              "#0d0887"
             ],
             [
              0.1111111111111111,
              "#46039f"
             ],
             [
              0.2222222222222222,
              "#7201a8"
             ],
             [
              0.3333333333333333,
              "#9c179e"
             ],
             [
              0.4444444444444444,
              "#bd3786"
             ],
             [
              0.5555555555555556,
              "#d8576b"
             ],
             [
              0.6666666666666666,
              "#ed7953"
             ],
             [
              0.7777777777777778,
              "#fb9f3a"
             ],
             [
              0.8888888888888888,
              "#fdca26"
             ],
             [
              1,
              "#f0f921"
             ]
            ],
            "type": "histogram2d"
           }
          ],
          "histogram2dcontour": [
           {
            "colorbar": {
             "outlinewidth": 0,
             "ticks": ""
            },
            "colorscale": [
             [
              0,
              "#0d0887"
             ],
             [
              0.1111111111111111,
              "#46039f"
             ],
             [
              0.2222222222222222,
              "#7201a8"
             ],
             [
              0.3333333333333333,
              "#9c179e"
             ],
             [
              0.4444444444444444,
              "#bd3786"
             ],
             [
              0.5555555555555556,
              "#d8576b"
             ],
             [
              0.6666666666666666,
              "#ed7953"
             ],
             [
              0.7777777777777778,
              "#fb9f3a"
             ],
             [
              0.8888888888888888,
              "#fdca26"
             ],
             [
              1,
              "#f0f921"
             ]
            ],
            "type": "histogram2dcontour"
           }
          ],
          "mesh3d": [
           {
            "colorbar": {
             "outlinewidth": 0,
             "ticks": ""
            },
            "type": "mesh3d"
           }
          ],
          "parcoords": [
           {
            "line": {
             "colorbar": {
              "outlinewidth": 0,
              "ticks": ""
             }
            },
            "type": "parcoords"
           }
          ],
          "pie": [
           {
            "automargin": true,
            "type": "pie"
           }
          ],
          "scatter": [
           {
            "fillpattern": {
             "fillmode": "overlay",
             "size": 10,
             "solidity": 0.2
            },
            "type": "scatter"
           }
          ],
          "scatter3d": [
           {
            "line": {
             "colorbar": {
              "outlinewidth": 0,
              "ticks": ""
             }
            },
            "marker": {
             "colorbar": {
              "outlinewidth": 0,
              "ticks": ""
             }
            },
            "type": "scatter3d"
           }
          ],
          "scattercarpet": [
           {
            "marker": {
             "colorbar": {
              "outlinewidth": 0,
              "ticks": ""
             }
            },
            "type": "scattercarpet"
           }
          ],
          "scattergeo": [
           {
            "marker": {
             "colorbar": {
              "outlinewidth": 0,
              "ticks": ""
             }
            },
            "type": "scattergeo"
           }
          ],
          "scattergl": [
           {
            "marker": {
             "colorbar": {
              "outlinewidth": 0,
              "ticks": ""
             }
            },
            "type": "scattergl"
           }
          ],
          "scattermapbox": [
           {
            "marker": {
             "colorbar": {
              "outlinewidth": 0,
              "ticks": ""
             }
            },
            "type": "scattermapbox"
           }
          ],
          "scatterpolar": [
           {
            "marker": {
             "colorbar": {
              "outlinewidth": 0,
              "ticks": ""
             }
            },
            "type": "scatterpolar"
           }
          ],
          "scatterpolargl": [
           {
            "marker": {
             "colorbar": {
              "outlinewidth": 0,
              "ticks": ""
             }
            },
            "type": "scatterpolargl"
           }
          ],
          "scatterternary": [
           {
            "marker": {
             "colorbar": {
              "outlinewidth": 0,
              "ticks": ""
             }
            },
            "type": "scatterternary"
           }
          ],
          "surface": [
           {
            "colorbar": {
             "outlinewidth": 0,
             "ticks": ""
            },
            "colorscale": [
             [
              0,
              "#0d0887"
             ],
             [
              0.1111111111111111,
              "#46039f"
             ],
             [
              0.2222222222222222,
              "#7201a8"
             ],
             [
              0.3333333333333333,
              "#9c179e"
             ],
             [
              0.4444444444444444,
              "#bd3786"
             ],
             [
              0.5555555555555556,
              "#d8576b"
             ],
             [
              0.6666666666666666,
              "#ed7953"
             ],
             [
              0.7777777777777778,
              "#fb9f3a"
             ],
             [
              0.8888888888888888,
              "#fdca26"
             ],
             [
              1,
              "#f0f921"
             ]
            ],
            "type": "surface"
           }
          ],
          "table": [
           {
            "cells": {
             "fill": {
              "color": "#EBF0F8"
             },
             "line": {
              "color": "white"
             }
            },
            "header": {
             "fill": {
              "color": "#C8D4E3"
             },
             "line": {
              "color": "white"
             }
            },
            "type": "table"
           }
          ]
         },
         "layout": {
          "annotationdefaults": {
           "arrowcolor": "#2a3f5f",
           "arrowhead": 0,
           "arrowwidth": 1
          },
          "autotypenumbers": "strict",
          "coloraxis": {
           "colorbar": {
            "outlinewidth": 0,
            "ticks": ""
           }
          },
          "colorscale": {
           "diverging": [
            [
             0,
             "#8e0152"
            ],
            [
             0.1,
             "#c51b7d"
            ],
            [
             0.2,
             "#de77ae"
            ],
            [
             0.3,
             "#f1b6da"
            ],
            [
             0.4,
             "#fde0ef"
            ],
            [
             0.5,
             "#f7f7f7"
            ],
            [
             0.6,
             "#e6f5d0"
            ],
            [
             0.7,
             "#b8e186"
            ],
            [
             0.8,
             "#7fbc41"
            ],
            [
             0.9,
             "#4d9221"
            ],
            [
             1,
             "#276419"
            ]
           ],
           "sequential": [
            [
             0,
             "#0d0887"
            ],
            [
             0.1111111111111111,
             "#46039f"
            ],
            [
             0.2222222222222222,
             "#7201a8"
            ],
            [
             0.3333333333333333,
             "#9c179e"
            ],
            [
             0.4444444444444444,
             "#bd3786"
            ],
            [
             0.5555555555555556,
             "#d8576b"
            ],
            [
             0.6666666666666666,
             "#ed7953"
            ],
            [
             0.7777777777777778,
             "#fb9f3a"
            ],
            [
             0.8888888888888888,
             "#fdca26"
            ],
            [
             1,
             "#f0f921"
            ]
           ],
           "sequentialminus": [
            [
             0,
             "#0d0887"
            ],
            [
             0.1111111111111111,
             "#46039f"
            ],
            [
             0.2222222222222222,
             "#7201a8"
            ],
            [
             0.3333333333333333,
             "#9c179e"
            ],
            [
             0.4444444444444444,
             "#bd3786"
            ],
            [
             0.5555555555555556,
             "#d8576b"
            ],
            [
             0.6666666666666666,
             "#ed7953"
            ],
            [
             0.7777777777777778,
             "#fb9f3a"
            ],
            [
             0.8888888888888888,
             "#fdca26"
            ],
            [
             1,
             "#f0f921"
            ]
           ]
          },
          "colorway": [
           "#636efa",
           "#EF553B",
           "#00cc96",
           "#ab63fa",
           "#FFA15A",
           "#19d3f3",
           "#FF6692",
           "#B6E880",
           "#FF97FF",
           "#FECB52"
          ],
          "font": {
           "color": "#2a3f5f"
          },
          "geo": {
           "bgcolor": "white",
           "lakecolor": "white",
           "landcolor": "#E5ECF6",
           "showlakes": true,
           "showland": true,
           "subunitcolor": "white"
          },
          "hoverlabel": {
           "align": "left"
          },
          "hovermode": "closest",
          "mapbox": {
           "style": "light"
          },
          "paper_bgcolor": "white",
          "plot_bgcolor": "#E5ECF6",
          "polar": {
           "angularaxis": {
            "gridcolor": "white",
            "linecolor": "white",
            "ticks": ""
           },
           "bgcolor": "#E5ECF6",
           "radialaxis": {
            "gridcolor": "white",
            "linecolor": "white",
            "ticks": ""
           }
          },
          "scene": {
           "xaxis": {
            "backgroundcolor": "#E5ECF6",
            "gridcolor": "white",
            "gridwidth": 2,
            "linecolor": "white",
            "showbackground": true,
            "ticks": "",
            "zerolinecolor": "white"
           },
           "yaxis": {
            "backgroundcolor": "#E5ECF6",
            "gridcolor": "white",
            "gridwidth": 2,
            "linecolor": "white",
            "showbackground": true,
            "ticks": "",
            "zerolinecolor": "white"
           },
           "zaxis": {
            "backgroundcolor": "#E5ECF6",
            "gridcolor": "white",
            "gridwidth": 2,
            "linecolor": "white",
            "showbackground": true,
            "ticks": "",
            "zerolinecolor": "white"
           }
          },
          "shapedefaults": {
           "line": {
            "color": "#2a3f5f"
           }
          },
          "ternary": {
           "aaxis": {
            "gridcolor": "white",
            "linecolor": "white",
            "ticks": ""
           },
           "baxis": {
            "gridcolor": "white",
            "linecolor": "white",
            "ticks": ""
           },
           "bgcolor": "#E5ECF6",
           "caxis": {
            "gridcolor": "white",
            "linecolor": "white",
            "ticks": ""
           }
          },
          "title": {
           "x": 0.05
          },
          "xaxis": {
           "automargin": true,
           "gridcolor": "white",
           "linecolor": "white",
           "ticks": "",
           "title": {
            "standoff": 15
           },
           "zerolinecolor": "white",
           "zerolinewidth": 2
          },
          "yaxis": {
           "automargin": true,
           "gridcolor": "white",
           "linecolor": "white",
           "ticks": "",
           "title": {
            "standoff": 15
           },
           "zerolinecolor": "white",
           "zerolinewidth": 2
          }
         }
        },
        "title": {
         "text": "Drivers with >10 Podiums"
        },
        "xaxis": {
         "anchor": "y",
         "domain": [
          0,
          1
         ],
         "title": {
          "text": "Driver"
         }
        },
        "yaxis": {
         "anchor": "x",
         "domain": [
          0,
          1
         ],
         "title": {
          "text": "Total Podium Count"
         }
        }
       }
      }
     },
     "metadata": {},
     "output_type": "display_data"
    }
   ],
   "source": [
    "# plot bar chart for drivers with > 10 podiums\n",
    "filtered_drivers_podiums = drivers_podiums[drivers_podiums['podium_count'] > 10]\n",
    "filtered_drivers_podiums['full_name'] = filtered_drivers_podiums['first_name'] + ' ' + filtered_drivers_podiums['last_name']\n",
    "sorted_drivers_podiums = filtered_drivers_podiums.sort_values(by='podium_count', ascending=False)\n",
    "podiums_over_ten = px.bar(sorted_drivers_podiums, x='full_name', y='podium_count', title='Drivers with >10 Podiums', labels={'podium_count':'Total Podium Count', 'full_name':'Driver'})\n",
    "podiums_over_ten.show()\n"
   ]
  },
  {
   "cell_type": "code",
   "execution_count": 232,
   "metadata": {},
   "outputs": [
    {
     "name": "stderr",
     "output_type": "stream",
     "text": [
      "C:\\Users\\MAHT DAYMUHN\\AppData\\Local\\Temp\\ipykernel_26088\\294053816.py:2: SettingWithCopyWarning:\n",
      "\n",
      "\n",
      "A value is trying to be set on a copy of a slice from a DataFrame.\n",
      "Try using .loc[row_indexer,col_indexer] = value instead\n",
      "\n",
      "See the caveats in the documentation: https://pandas.pydata.org/pandas-docs/stable/user_guide/indexing.html#returning-a-view-versus-a-copy\n",
      "\n"
     ]
    },
    {
     "data": {
      "application/vnd.plotly.v1+json": {
       "config": {
        "plotlyServerURL": "https://plot.ly"
       },
       "data": [
        {
         "alignmentgroup": "True",
         "hovertemplate": "Driver=%{x}<br>Wins=%{y}<extra></extra>",
         "legendgroup": "",
         "marker": {
          "color": "#636efa",
          "pattern": {
           "shape": ""
          }
         },
         "name": "",
         "offsetgroup": "",
         "orientation": "v",
         "showlegend": false,
         "textposition": "auto",
         "type": "bar",
         "x": [
          "l. hamilton",
          "m. schumacher",
          "s. vettel",
          "a. prost",
          "a. senna",
          "m. verstappen",
          "f. alonso",
          "n. mansell",
          "j. stewart",
          "j. clark",
          "n. lauda",
          "j. fangio",
          "n. rosberg",
          "n. piquet",
          "d. hill",
          "k. räikkönen",
          "m. häkkinen",
          "s. moss",
          "j. button",
          "j. brabham",
          "e. fittipaldi",
          "g. hill",
          "a. ascari",
          "d. coulthard",
          "m. andretti",
          "c. reutemann",
          "a. jones",
          "f. massa",
          "j. villeneuve",
          "r. barrichello",
          "v. bottas",
          "j. hunt",
          "r. peterson",
          "j. scheckter",
          "g. berger",
          "m. webber",
          "d. ricciardo",
          "j. ickx",
          "d. hulme",
          "r. arnoux",
          "j. pablo",
          "j. laffite",
          "r. patrese",
          "t. brooks",
          "r. schumacher",
          "j. surtees",
          "j. rindt",
          "g. villeneuve",
          "n. farina",
          "j. watson",
          "k. rosberg",
          "m. alboreto",
          "c. leclerc",
          "c. regazzoni",
          "d. gurney",
          "b. mclaren",
          "s. pérez",
          "e. irvine",
          "j. herbert",
          "m. hawthorn",
          "t. boutsen",
          "d. pironi",
          "p. collins",
          "g. fisichella",
          "h. frentzen",
          "p. hill",
          "m. trintignant",
          "p. tambay",
          "p. revson",
          "p. depailler",
          "p. rodríguez",
          "j. siffert",
          "w. von",
          "b. vukovich",
          "e. de",
          "j. jabouille",
          "j. froilán",
          "b. sweikert",
          "t. ruttman",
          "c. pace",
          "c. sainz",
          "a. nannini",
          "p. taruffi",
          "v. brambilla",
          "s. hanks",
          "r. ward",
          "e. ocon",
          "f. cevert",
          "g. baghetti",
          "r. kubica",
          "r. ginther",
          "g. nilsson",
          "g. russell",
          "l. wallard",
          "h. kovalainen",
          "o. panis",
          "l. musso",
          "l. fagioli",
          "l. bandini",
          "j. trulli",
          "j. rathmann",
          "j. parsons",
          "j. mass",
          "j. bryan",
          "l. scarfiotti",
          "j. bonnier",
          "p. flaherty",
          "p. gasly",
          "p. gethin",
          "j. beltoise",
          "p. maldonado",
          "j. alesi",
          "i. ireland"
         ],
         "xaxis": "x",
         "y": [
          103,
          91,
          53,
          51,
          41,
          35,
          32,
          31,
          27,
          25,
          25,
          24,
          23,
          23,
          22,
          21,
          20,
          16,
          15,
          14,
          14,
          14,
          13,
          13,
          12,
          12,
          12,
          11,
          11,
          11,
          10,
          10,
          10,
          10,
          10,
          9,
          8,
          8,
          8,
          7,
          7,
          6,
          6,
          6,
          6,
          6,
          6,
          6,
          5,
          5,
          5,
          5,
          5,
          5,
          4,
          4,
          4,
          4,
          3,
          3,
          3,
          3,
          3,
          3,
          3,
          3,
          2,
          2,
          2,
          2,
          2,
          2,
          2,
          2,
          2,
          2,
          2,
          1,
          1,
          1,
          1,
          1,
          1,
          1,
          1,
          1,
          1,
          1,
          1,
          1,
          1,
          1,
          1,
          1,
          1,
          1,
          1,
          1,
          1,
          1,
          1,
          1,
          1,
          1,
          1,
          1,
          1,
          1,
          1,
          1,
          1,
          1,
          1
         ],
         "yaxis": "y"
        }
       ],
       "layout": {
        "barmode": "relative",
        "legend": {
         "tracegroupgap": 0
        },
        "template": {
         "data": {
          "bar": [
           {
            "error_x": {
             "color": "#2a3f5f"
            },
            "error_y": {
             "color": "#2a3f5f"
            },
            "marker": {
             "line": {
              "color": "#E5ECF6",
              "width": 0.5
             },
             "pattern": {
              "fillmode": "overlay",
              "size": 10,
              "solidity": 0.2
             }
            },
            "type": "bar"
           }
          ],
          "barpolar": [
           {
            "marker": {
             "line": {
              "color": "#E5ECF6",
              "width": 0.5
             },
             "pattern": {
              "fillmode": "overlay",
              "size": 10,
              "solidity": 0.2
             }
            },
            "type": "barpolar"
           }
          ],
          "carpet": [
           {
            "aaxis": {
             "endlinecolor": "#2a3f5f",
             "gridcolor": "white",
             "linecolor": "white",
             "minorgridcolor": "white",
             "startlinecolor": "#2a3f5f"
            },
            "baxis": {
             "endlinecolor": "#2a3f5f",
             "gridcolor": "white",
             "linecolor": "white",
             "minorgridcolor": "white",
             "startlinecolor": "#2a3f5f"
            },
            "type": "carpet"
           }
          ],
          "choropleth": [
           {
            "colorbar": {
             "outlinewidth": 0,
             "ticks": ""
            },
            "type": "choropleth"
           }
          ],
          "contour": [
           {
            "colorbar": {
             "outlinewidth": 0,
             "ticks": ""
            },
            "colorscale": [
             [
              0,
              "#0d0887"
             ],
             [
              0.1111111111111111,
              "#46039f"
             ],
             [
              0.2222222222222222,
              "#7201a8"
             ],
             [
              0.3333333333333333,
              "#9c179e"
             ],
             [
              0.4444444444444444,
              "#bd3786"
             ],
             [
              0.5555555555555556,
              "#d8576b"
             ],
             [
              0.6666666666666666,
              "#ed7953"
             ],
             [
              0.7777777777777778,
              "#fb9f3a"
             ],
             [
              0.8888888888888888,
              "#fdca26"
             ],
             [
              1,
              "#f0f921"
             ]
            ],
            "type": "contour"
           }
          ],
          "contourcarpet": [
           {
            "colorbar": {
             "outlinewidth": 0,
             "ticks": ""
            },
            "type": "contourcarpet"
           }
          ],
          "heatmap": [
           {
            "colorbar": {
             "outlinewidth": 0,
             "ticks": ""
            },
            "colorscale": [
             [
              0,
              "#0d0887"
             ],
             [
              0.1111111111111111,
              "#46039f"
             ],
             [
              0.2222222222222222,
              "#7201a8"
             ],
             [
              0.3333333333333333,
              "#9c179e"
             ],
             [
              0.4444444444444444,
              "#bd3786"
             ],
             [
              0.5555555555555556,
              "#d8576b"
             ],
             [
              0.6666666666666666,
              "#ed7953"
             ],
             [
              0.7777777777777778,
              "#fb9f3a"
             ],
             [
              0.8888888888888888,
              "#fdca26"
             ],
             [
              1,
              "#f0f921"
             ]
            ],
            "type": "heatmap"
           }
          ],
          "heatmapgl": [
           {
            "colorbar": {
             "outlinewidth": 0,
             "ticks": ""
            },
            "colorscale": [
             [
              0,
              "#0d0887"
             ],
             [
              0.1111111111111111,
              "#46039f"
             ],
             [
              0.2222222222222222,
              "#7201a8"
             ],
             [
              0.3333333333333333,
              "#9c179e"
             ],
             [
              0.4444444444444444,
              "#bd3786"
             ],
             [
              0.5555555555555556,
              "#d8576b"
             ],
             [
              0.6666666666666666,
              "#ed7953"
             ],
             [
              0.7777777777777778,
              "#fb9f3a"
             ],
             [
              0.8888888888888888,
              "#fdca26"
             ],
             [
              1,
              "#f0f921"
             ]
            ],
            "type": "heatmapgl"
           }
          ],
          "histogram": [
           {
            "marker": {
             "pattern": {
              "fillmode": "overlay",
              "size": 10,
              "solidity": 0.2
             }
            },
            "type": "histogram"
           }
          ],
          "histogram2d": [
           {
            "colorbar": {
             "outlinewidth": 0,
             "ticks": ""
            },
            "colorscale": [
             [
              0,
              "#0d0887"
             ],
             [
              0.1111111111111111,
              "#46039f"
             ],
             [
              0.2222222222222222,
              "#7201a8"
             ],
             [
              0.3333333333333333,
              "#9c179e"
             ],
             [
              0.4444444444444444,
              "#bd3786"
             ],
             [
              0.5555555555555556,
              "#d8576b"
             ],
             [
              0.6666666666666666,
              "#ed7953"
             ],
             [
              0.7777777777777778,
              "#fb9f3a"
             ],
             [
              0.8888888888888888,
              "#fdca26"
             ],
             [
              1,
              "#f0f921"
             ]
            ],
            "type": "histogram2d"
           }
          ],
          "histogram2dcontour": [
           {
            "colorbar": {
             "outlinewidth": 0,
             "ticks": ""
            },
            "colorscale": [
             [
              0,
              "#0d0887"
             ],
             [
              0.1111111111111111,
              "#46039f"
             ],
             [
              0.2222222222222222,
              "#7201a8"
             ],
             [
              0.3333333333333333,
              "#9c179e"
             ],
             [
              0.4444444444444444,
              "#bd3786"
             ],
             [
              0.5555555555555556,
              "#d8576b"
             ],
             [
              0.6666666666666666,
              "#ed7953"
             ],
             [
              0.7777777777777778,
              "#fb9f3a"
             ],
             [
              0.8888888888888888,
              "#fdca26"
             ],
             [
              1,
              "#f0f921"
             ]
            ],
            "type": "histogram2dcontour"
           }
          ],
          "mesh3d": [
           {
            "colorbar": {
             "outlinewidth": 0,
             "ticks": ""
            },
            "type": "mesh3d"
           }
          ],
          "parcoords": [
           {
            "line": {
             "colorbar": {
              "outlinewidth": 0,
              "ticks": ""
             }
            },
            "type": "parcoords"
           }
          ],
          "pie": [
           {
            "automargin": true,
            "type": "pie"
           }
          ],
          "scatter": [
           {
            "fillpattern": {
             "fillmode": "overlay",
             "size": 10,
             "solidity": 0.2
            },
            "type": "scatter"
           }
          ],
          "scatter3d": [
           {
            "line": {
             "colorbar": {
              "outlinewidth": 0,
              "ticks": ""
             }
            },
            "marker": {
             "colorbar": {
              "outlinewidth": 0,
              "ticks": ""
             }
            },
            "type": "scatter3d"
           }
          ],
          "scattercarpet": [
           {
            "marker": {
             "colorbar": {
              "outlinewidth": 0,
              "ticks": ""
             }
            },
            "type": "scattercarpet"
           }
          ],
          "scattergeo": [
           {
            "marker": {
             "colorbar": {
              "outlinewidth": 0,
              "ticks": ""
             }
            },
            "type": "scattergeo"
           }
          ],
          "scattergl": [
           {
            "marker": {
             "colorbar": {
              "outlinewidth": 0,
              "ticks": ""
             }
            },
            "type": "scattergl"
           }
          ],
          "scattermapbox": [
           {
            "marker": {
             "colorbar": {
              "outlinewidth": 0,
              "ticks": ""
             }
            },
            "type": "scattermapbox"
           }
          ],
          "scatterpolar": [
           {
            "marker": {
             "colorbar": {
              "outlinewidth": 0,
              "ticks": ""
             }
            },
            "type": "scatterpolar"
           }
          ],
          "scatterpolargl": [
           {
            "marker": {
             "colorbar": {
              "outlinewidth": 0,
              "ticks": ""
             }
            },
            "type": "scatterpolargl"
           }
          ],
          "scatterternary": [
           {
            "marker": {
             "colorbar": {
              "outlinewidth": 0,
              "ticks": ""
             }
            },
            "type": "scatterternary"
           }
          ],
          "surface": [
           {
            "colorbar": {
             "outlinewidth": 0,
             "ticks": ""
            },
            "colorscale": [
             [
              0,
              "#0d0887"
             ],
             [
              0.1111111111111111,
              "#46039f"
             ],
             [
              0.2222222222222222,
              "#7201a8"
             ],
             [
              0.3333333333333333,
              "#9c179e"
             ],
             [
              0.4444444444444444,
              "#bd3786"
             ],
             [
              0.5555555555555556,
              "#d8576b"
             ],
             [
              0.6666666666666666,
              "#ed7953"
             ],
             [
              0.7777777777777778,
              "#fb9f3a"
             ],
             [
              0.8888888888888888,
              "#fdca26"
             ],
             [
              1,
              "#f0f921"
             ]
            ],
            "type": "surface"
           }
          ],
          "table": [
           {
            "cells": {
             "fill": {
              "color": "#EBF0F8"
             },
             "line": {
              "color": "white"
             }
            },
            "header": {
             "fill": {
              "color": "#C8D4E3"
             },
             "line": {
              "color": "white"
             }
            },
            "type": "table"
           }
          ]
         },
         "layout": {
          "annotationdefaults": {
           "arrowcolor": "#2a3f5f",
           "arrowhead": 0,
           "arrowwidth": 1
          },
          "autotypenumbers": "strict",
          "coloraxis": {
           "colorbar": {
            "outlinewidth": 0,
            "ticks": ""
           }
          },
          "colorscale": {
           "diverging": [
            [
             0,
             "#8e0152"
            ],
            [
             0.1,
             "#c51b7d"
            ],
            [
             0.2,
             "#de77ae"
            ],
            [
             0.3,
             "#f1b6da"
            ],
            [
             0.4,
             "#fde0ef"
            ],
            [
             0.5,
             "#f7f7f7"
            ],
            [
             0.6,
             "#e6f5d0"
            ],
            [
             0.7,
             "#b8e186"
            ],
            [
             0.8,
             "#7fbc41"
            ],
            [
             0.9,
             "#4d9221"
            ],
            [
             1,
             "#276419"
            ]
           ],
           "sequential": [
            [
             0,
             "#0d0887"
            ],
            [
             0.1111111111111111,
             "#46039f"
            ],
            [
             0.2222222222222222,
             "#7201a8"
            ],
            [
             0.3333333333333333,
             "#9c179e"
            ],
            [
             0.4444444444444444,
             "#bd3786"
            ],
            [
             0.5555555555555556,
             "#d8576b"
            ],
            [
             0.6666666666666666,
             "#ed7953"
            ],
            [
             0.7777777777777778,
             "#fb9f3a"
            ],
            [
             0.8888888888888888,
             "#fdca26"
            ],
            [
             1,
             "#f0f921"
            ]
           ],
           "sequentialminus": [
            [
             0,
             "#0d0887"
            ],
            [
             0.1111111111111111,
             "#46039f"
            ],
            [
             0.2222222222222222,
             "#7201a8"
            ],
            [
             0.3333333333333333,
             "#9c179e"
            ],
            [
             0.4444444444444444,
             "#bd3786"
            ],
            [
             0.5555555555555556,
             "#d8576b"
            ],
            [
             0.6666666666666666,
             "#ed7953"
            ],
            [
             0.7777777777777778,
             "#fb9f3a"
            ],
            [
             0.8888888888888888,
             "#fdca26"
            ],
            [
             1,
             "#f0f921"
            ]
           ]
          },
          "colorway": [
           "#636efa",
           "#EF553B",
           "#00cc96",
           "#ab63fa",
           "#FFA15A",
           "#19d3f3",
           "#FF6692",
           "#B6E880",
           "#FF97FF",
           "#FECB52"
          ],
          "font": {
           "color": "#2a3f5f"
          },
          "geo": {
           "bgcolor": "white",
           "lakecolor": "white",
           "landcolor": "#E5ECF6",
           "showlakes": true,
           "showland": true,
           "subunitcolor": "white"
          },
          "hoverlabel": {
           "align": "left"
          },
          "hovermode": "closest",
          "mapbox": {
           "style": "light"
          },
          "paper_bgcolor": "white",
          "plot_bgcolor": "#E5ECF6",
          "polar": {
           "angularaxis": {
            "gridcolor": "white",
            "linecolor": "white",
            "ticks": ""
           },
           "bgcolor": "#E5ECF6",
           "radialaxis": {
            "gridcolor": "white",
            "linecolor": "white",
            "ticks": ""
           }
          },
          "scene": {
           "xaxis": {
            "backgroundcolor": "#E5ECF6",
            "gridcolor": "white",
            "gridwidth": 2,
            "linecolor": "white",
            "showbackground": true,
            "ticks": "",
            "zerolinecolor": "white"
           },
           "yaxis": {
            "backgroundcolor": "#E5ECF6",
            "gridcolor": "white",
            "gridwidth": 2,
            "linecolor": "white",
            "showbackground": true,
            "ticks": "",
            "zerolinecolor": "white"
           },
           "zaxis": {
            "backgroundcolor": "#E5ECF6",
            "gridcolor": "white",
            "gridwidth": 2,
            "linecolor": "white",
            "showbackground": true,
            "ticks": "",
            "zerolinecolor": "white"
           }
          },
          "shapedefaults": {
           "line": {
            "color": "#2a3f5f"
           }
          },
          "ternary": {
           "aaxis": {
            "gridcolor": "white",
            "linecolor": "white",
            "ticks": ""
           },
           "baxis": {
            "gridcolor": "white",
            "linecolor": "white",
            "ticks": ""
           },
           "bgcolor": "#E5ECF6",
           "caxis": {
            "gridcolor": "white",
            "linecolor": "white",
            "ticks": ""
           }
          },
          "title": {
           "x": 0.05
          },
          "xaxis": {
           "automargin": true,
           "gridcolor": "white",
           "linecolor": "white",
           "ticks": "",
           "title": {
            "standoff": 15
           },
           "zerolinecolor": "white",
           "zerolinewidth": 2
          },
          "yaxis": {
           "automargin": true,
           "gridcolor": "white",
           "linecolor": "white",
           "ticks": "",
           "title": {
            "standoff": 15
           },
           "zerolinecolor": "white",
           "zerolinewidth": 2
          }
         }
        },
        "title": {
         "text": "Total Wins by Driver"
        },
        "xaxis": {
         "anchor": "y",
         "domain": [
          0,
          1
         ],
         "title": {
          "text": "Driver"
         }
        },
        "yaxis": {
         "anchor": "x",
         "domain": [
          0,
          1
         ],
         "title": {
          "text": "Wins"
         }
        }
       }
      }
     },
     "metadata": {},
     "output_type": "display_data"
    }
   ],
   "source": [
    "# Plot bar chart for race wins\n",
    "winner_race_results['driver_name'] = winner_race_results['first_name'].str[0] + '. ' + winner_race_results['last_name']\n",
    "driver_wins_count = winner_race_results.groupby('driver_name').size().reset_index(name='wins')\n",
    "driver_wins_count = driver_wins_count.sort_values('wins', ascending=False)\n",
    "driver_wins = px.bar(driver_wins_count, x='driver_name', y='wins', title='Total Wins by Driver', labels={'driver_name':'Driver', 'wins':'Wins'})\n",
    "driver_wins.show()"
   ]
  },
  {
   "attachments": {},
   "cell_type": "markdown",
   "metadata": {},
   "source": [
    "#### Does qualifying position correlate to finishing position?"
   ]
  },
  {
   "cell_type": "code",
   "execution_count": 233,
   "metadata": {},
   "outputs": [],
   "source": [
    "# filter data\n",
    "top_20 = race_results[race_results['position'] <= 20]"
   ]
  },
  {
   "cell_type": "code",
   "execution_count": 234,
   "metadata": {},
   "outputs": [
    {
     "data": {
      "application/vnd.plotly.v1+json": {
       "config": {
        "plotlyServerURL": "https://plot.ly"
       },
       "data": [
        {
         "hovertemplate": "Finishing Position=%{x}<br>Starting Position=%{y}<extra></extra>",
         "legendgroup": "",
         "marker": {
          "color": "#636efa",
          "symbol": "circle"
         },
         "mode": "markers",
         "name": "",
         "orientation": "v",
         "showlegend": false,
         "type": "scatter",
         "x": [
          1,
          2,
          3,
          4,
          5,
          6,
          7,
          8,
          9,
          10,
          11,
          12,
          13,
          14,
          15,
          16,
          17,
          18,
          19,
          20
         ],
         "xaxis": "x",
         "y": [
          2.7144177449168208,
          4.280330882352941,
          5.88337924701561,
          7.442607897153351,
          8.757826887661142,
          10.235727440147329,
          11.296500920810313,
          12.534990791896869,
          13.040552995391705,
          13.841328413284133,
          14.048758049678012,
          14.16789667896679,
          14.197222222222223,
          14.12267657992565,
          14.251396648044693,
          13.932139491046183,
          13.675213675213675,
          13.611753371868978,
          13.49457058242843,
          13.279116465863455
         ],
         "yaxis": "y"
        }
       ],
       "layout": {
        "legend": {
         "tracegroupgap": 0
        },
        "template": {
         "data": {
          "bar": [
           {
            "error_x": {
             "color": "#2a3f5f"
            },
            "error_y": {
             "color": "#2a3f5f"
            },
            "marker": {
             "line": {
              "color": "#E5ECF6",
              "width": 0.5
             },
             "pattern": {
              "fillmode": "overlay",
              "size": 10,
              "solidity": 0.2
             }
            },
            "type": "bar"
           }
          ],
          "barpolar": [
           {
            "marker": {
             "line": {
              "color": "#E5ECF6",
              "width": 0.5
             },
             "pattern": {
              "fillmode": "overlay",
              "size": 10,
              "solidity": 0.2
             }
            },
            "type": "barpolar"
           }
          ],
          "carpet": [
           {
            "aaxis": {
             "endlinecolor": "#2a3f5f",
             "gridcolor": "white",
             "linecolor": "white",
             "minorgridcolor": "white",
             "startlinecolor": "#2a3f5f"
            },
            "baxis": {
             "endlinecolor": "#2a3f5f",
             "gridcolor": "white",
             "linecolor": "white",
             "minorgridcolor": "white",
             "startlinecolor": "#2a3f5f"
            },
            "type": "carpet"
           }
          ],
          "choropleth": [
           {
            "colorbar": {
             "outlinewidth": 0,
             "ticks": ""
            },
            "type": "choropleth"
           }
          ],
          "contour": [
           {
            "colorbar": {
             "outlinewidth": 0,
             "ticks": ""
            },
            "colorscale": [
             [
              0,
              "#0d0887"
             ],
             [
              0.1111111111111111,
              "#46039f"
             ],
             [
              0.2222222222222222,
              "#7201a8"
             ],
             [
              0.3333333333333333,
              "#9c179e"
             ],
             [
              0.4444444444444444,
              "#bd3786"
             ],
             [
              0.5555555555555556,
              "#d8576b"
             ],
             [
              0.6666666666666666,
              "#ed7953"
             ],
             [
              0.7777777777777778,
              "#fb9f3a"
             ],
             [
              0.8888888888888888,
              "#fdca26"
             ],
             [
              1,
              "#f0f921"
             ]
            ],
            "type": "contour"
           }
          ],
          "contourcarpet": [
           {
            "colorbar": {
             "outlinewidth": 0,
             "ticks": ""
            },
            "type": "contourcarpet"
           }
          ],
          "heatmap": [
           {
            "colorbar": {
             "outlinewidth": 0,
             "ticks": ""
            },
            "colorscale": [
             [
              0,
              "#0d0887"
             ],
             [
              0.1111111111111111,
              "#46039f"
             ],
             [
              0.2222222222222222,
              "#7201a8"
             ],
             [
              0.3333333333333333,
              "#9c179e"
             ],
             [
              0.4444444444444444,
              "#bd3786"
             ],
             [
              0.5555555555555556,
              "#d8576b"
             ],
             [
              0.6666666666666666,
              "#ed7953"
             ],
             [
              0.7777777777777778,
              "#fb9f3a"
             ],
             [
              0.8888888888888888,
              "#fdca26"
             ],
             [
              1,
              "#f0f921"
             ]
            ],
            "type": "heatmap"
           }
          ],
          "heatmapgl": [
           {
            "colorbar": {
             "outlinewidth": 0,
             "ticks": ""
            },
            "colorscale": [
             [
              0,
              "#0d0887"
             ],
             [
              0.1111111111111111,
              "#46039f"
             ],
             [
              0.2222222222222222,
              "#7201a8"
             ],
             [
              0.3333333333333333,
              "#9c179e"
             ],
             [
              0.4444444444444444,
              "#bd3786"
             ],
             [
              0.5555555555555556,
              "#d8576b"
             ],
             [
              0.6666666666666666,
              "#ed7953"
             ],
             [
              0.7777777777777778,
              "#fb9f3a"
             ],
             [
              0.8888888888888888,
              "#fdca26"
             ],
             [
              1,
              "#f0f921"
             ]
            ],
            "type": "heatmapgl"
           }
          ],
          "histogram": [
           {
            "marker": {
             "pattern": {
              "fillmode": "overlay",
              "size": 10,
              "solidity": 0.2
             }
            },
            "type": "histogram"
           }
          ],
          "histogram2d": [
           {
            "colorbar": {
             "outlinewidth": 0,
             "ticks": ""
            },
            "colorscale": [
             [
              0,
              "#0d0887"
             ],
             [
              0.1111111111111111,
              "#46039f"
             ],
             [
              0.2222222222222222,
              "#7201a8"
             ],
             [
              0.3333333333333333,
              "#9c179e"
             ],
             [
              0.4444444444444444,
              "#bd3786"
             ],
             [
              0.5555555555555556,
              "#d8576b"
             ],
             [
              0.6666666666666666,
              "#ed7953"
             ],
             [
              0.7777777777777778,
              "#fb9f3a"
             ],
             [
              0.8888888888888888,
              "#fdca26"
             ],
             [
              1,
              "#f0f921"
             ]
            ],
            "type": "histogram2d"
           }
          ],
          "histogram2dcontour": [
           {
            "colorbar": {
             "outlinewidth": 0,
             "ticks": ""
            },
            "colorscale": [
             [
              0,
              "#0d0887"
             ],
             [
              0.1111111111111111,
              "#46039f"
             ],
             [
              0.2222222222222222,
              "#7201a8"
             ],
             [
              0.3333333333333333,
              "#9c179e"
             ],
             [
              0.4444444444444444,
              "#bd3786"
             ],
             [
              0.5555555555555556,
              "#d8576b"
             ],
             [
              0.6666666666666666,
              "#ed7953"
             ],
             [
              0.7777777777777778,
              "#fb9f3a"
             ],
             [
              0.8888888888888888,
              "#fdca26"
             ],
             [
              1,
              "#f0f921"
             ]
            ],
            "type": "histogram2dcontour"
           }
          ],
          "mesh3d": [
           {
            "colorbar": {
             "outlinewidth": 0,
             "ticks": ""
            },
            "type": "mesh3d"
           }
          ],
          "parcoords": [
           {
            "line": {
             "colorbar": {
              "outlinewidth": 0,
              "ticks": ""
             }
            },
            "type": "parcoords"
           }
          ],
          "pie": [
           {
            "automargin": true,
            "type": "pie"
           }
          ],
          "scatter": [
           {
            "fillpattern": {
             "fillmode": "overlay",
             "size": 10,
             "solidity": 0.2
            },
            "type": "scatter"
           }
          ],
          "scatter3d": [
           {
            "line": {
             "colorbar": {
              "outlinewidth": 0,
              "ticks": ""
             }
            },
            "marker": {
             "colorbar": {
              "outlinewidth": 0,
              "ticks": ""
             }
            },
            "type": "scatter3d"
           }
          ],
          "scattercarpet": [
           {
            "marker": {
             "colorbar": {
              "outlinewidth": 0,
              "ticks": ""
             }
            },
            "type": "scattercarpet"
           }
          ],
          "scattergeo": [
           {
            "marker": {
             "colorbar": {
              "outlinewidth": 0,
              "ticks": ""
             }
            },
            "type": "scattergeo"
           }
          ],
          "scattergl": [
           {
            "marker": {
             "colorbar": {
              "outlinewidth": 0,
              "ticks": ""
             }
            },
            "type": "scattergl"
           }
          ],
          "scattermapbox": [
           {
            "marker": {
             "colorbar": {
              "outlinewidth": 0,
              "ticks": ""
             }
            },
            "type": "scattermapbox"
           }
          ],
          "scatterpolar": [
           {
            "marker": {
             "colorbar": {
              "outlinewidth": 0,
              "ticks": ""
             }
            },
            "type": "scatterpolar"
           }
          ],
          "scatterpolargl": [
           {
            "marker": {
             "colorbar": {
              "outlinewidth": 0,
              "ticks": ""
             }
            },
            "type": "scatterpolargl"
           }
          ],
          "scatterternary": [
           {
            "marker": {
             "colorbar": {
              "outlinewidth": 0,
              "ticks": ""
             }
            },
            "type": "scatterternary"
           }
          ],
          "surface": [
           {
            "colorbar": {
             "outlinewidth": 0,
             "ticks": ""
            },
            "colorscale": [
             [
              0,
              "#0d0887"
             ],
             [
              0.1111111111111111,
              "#46039f"
             ],
             [
              0.2222222222222222,
              "#7201a8"
             ],
             [
              0.3333333333333333,
              "#9c179e"
             ],
             [
              0.4444444444444444,
              "#bd3786"
             ],
             [
              0.5555555555555556,
              "#d8576b"
             ],
             [
              0.6666666666666666,
              "#ed7953"
             ],
             [
              0.7777777777777778,
              "#fb9f3a"
             ],
             [
              0.8888888888888888,
              "#fdca26"
             ],
             [
              1,
              "#f0f921"
             ]
            ],
            "type": "surface"
           }
          ],
          "table": [
           {
            "cells": {
             "fill": {
              "color": "#EBF0F8"
             },
             "line": {
              "color": "white"
             }
            },
            "header": {
             "fill": {
              "color": "#C8D4E3"
             },
             "line": {
              "color": "white"
             }
            },
            "type": "table"
           }
          ]
         },
         "layout": {
          "annotationdefaults": {
           "arrowcolor": "#2a3f5f",
           "arrowhead": 0,
           "arrowwidth": 1
          },
          "autotypenumbers": "strict",
          "coloraxis": {
           "colorbar": {
            "outlinewidth": 0,
            "ticks": ""
           }
          },
          "colorscale": {
           "diverging": [
            [
             0,
             "#8e0152"
            ],
            [
             0.1,
             "#c51b7d"
            ],
            [
             0.2,
             "#de77ae"
            ],
            [
             0.3,
             "#f1b6da"
            ],
            [
             0.4,
             "#fde0ef"
            ],
            [
             0.5,
             "#f7f7f7"
            ],
            [
             0.6,
             "#e6f5d0"
            ],
            [
             0.7,
             "#b8e186"
            ],
            [
             0.8,
             "#7fbc41"
            ],
            [
             0.9,
             "#4d9221"
            ],
            [
             1,
             "#276419"
            ]
           ],
           "sequential": [
            [
             0,
             "#0d0887"
            ],
            [
             0.1111111111111111,
             "#46039f"
            ],
            [
             0.2222222222222222,
             "#7201a8"
            ],
            [
             0.3333333333333333,
             "#9c179e"
            ],
            [
             0.4444444444444444,
             "#bd3786"
            ],
            [
             0.5555555555555556,
             "#d8576b"
            ],
            [
             0.6666666666666666,
             "#ed7953"
            ],
            [
             0.7777777777777778,
             "#fb9f3a"
            ],
            [
             0.8888888888888888,
             "#fdca26"
            ],
            [
             1,
             "#f0f921"
            ]
           ],
           "sequentialminus": [
            [
             0,
             "#0d0887"
            ],
            [
             0.1111111111111111,
             "#46039f"
            ],
            [
             0.2222222222222222,
             "#7201a8"
            ],
            [
             0.3333333333333333,
             "#9c179e"
            ],
            [
             0.4444444444444444,
             "#bd3786"
            ],
            [
             0.5555555555555556,
             "#d8576b"
            ],
            [
             0.6666666666666666,
             "#ed7953"
            ],
            [
             0.7777777777777778,
             "#fb9f3a"
            ],
            [
             0.8888888888888888,
             "#fdca26"
            ],
            [
             1,
             "#f0f921"
            ]
           ]
          },
          "colorway": [
           "#636efa",
           "#EF553B",
           "#00cc96",
           "#ab63fa",
           "#FFA15A",
           "#19d3f3",
           "#FF6692",
           "#B6E880",
           "#FF97FF",
           "#FECB52"
          ],
          "font": {
           "color": "#2a3f5f"
          },
          "geo": {
           "bgcolor": "white",
           "lakecolor": "white",
           "landcolor": "#E5ECF6",
           "showlakes": true,
           "showland": true,
           "subunitcolor": "white"
          },
          "hoverlabel": {
           "align": "left"
          },
          "hovermode": "closest",
          "mapbox": {
           "style": "light"
          },
          "paper_bgcolor": "white",
          "plot_bgcolor": "#E5ECF6",
          "polar": {
           "angularaxis": {
            "gridcolor": "white",
            "linecolor": "white",
            "ticks": ""
           },
           "bgcolor": "#E5ECF6",
           "radialaxis": {
            "gridcolor": "white",
            "linecolor": "white",
            "ticks": ""
           }
          },
          "scene": {
           "xaxis": {
            "backgroundcolor": "#E5ECF6",
            "gridcolor": "white",
            "gridwidth": 2,
            "linecolor": "white",
            "showbackground": true,
            "ticks": "",
            "zerolinecolor": "white"
           },
           "yaxis": {
            "backgroundcolor": "#E5ECF6",
            "gridcolor": "white",
            "gridwidth": 2,
            "linecolor": "white",
            "showbackground": true,
            "ticks": "",
            "zerolinecolor": "white"
           },
           "zaxis": {
            "backgroundcolor": "#E5ECF6",
            "gridcolor": "white",
            "gridwidth": 2,
            "linecolor": "white",
            "showbackground": true,
            "ticks": "",
            "zerolinecolor": "white"
           }
          },
          "shapedefaults": {
           "line": {
            "color": "#2a3f5f"
           }
          },
          "ternary": {
           "aaxis": {
            "gridcolor": "white",
            "linecolor": "white",
            "ticks": ""
           },
           "baxis": {
            "gridcolor": "white",
            "linecolor": "white",
            "ticks": ""
           },
           "bgcolor": "#E5ECF6",
           "caxis": {
            "gridcolor": "white",
            "linecolor": "white",
            "ticks": ""
           }
          },
          "title": {
           "x": 0.05
          },
          "xaxis": {
           "automargin": true,
           "gridcolor": "white",
           "linecolor": "white",
           "ticks": "",
           "title": {
            "standoff": 15
           },
           "zerolinecolor": "white",
           "zerolinewidth": 2
          },
          "yaxis": {
           "automargin": true,
           "gridcolor": "white",
           "linecolor": "white",
           "ticks": "",
           "title": {
            "standoff": 15
           },
           "zerolinecolor": "white",
           "zerolinewidth": 2
          }
         }
        },
        "title": {
         "text": "Average Finishing Position"
        },
        "xaxis": {
         "anchor": "y",
         "domain": [
          0,
          1
         ],
         "dtick": 1,
         "tick0": 1,
         "tickmode": "linear",
         "title": {
          "text": "Finishing Position"
         }
        },
        "yaxis": {
         "anchor": "x",
         "domain": [
          0,
          1
         ],
         "dtick": 1,
         "tick0": 1,
         "tickmode": "linear",
         "title": {
          "text": "Starting Position"
         }
        }
       }
      }
     },
     "metadata": {},
     "output_type": "display_data"
    }
   ],
   "source": [
    "# plot scatterplot to show the relationship between Grid and finishing position.\n",
    "grouped = top_20.groupby('position', as_index=False)['grid'].mean()\n",
    "avg_finish = px.scatter(grouped, x='position', y='grid', title='Average Finishing Position', labels={'grid':'Starting Position', 'position':'Finishing Position'})\n",
    "\n",
    "# Update the tick values on the x-axis and y-axis\n",
    "avg_finish.update_layout(\n",
    "    xaxis=dict(tickmode='linear', tick0=1, dtick=1),\n",
    "    yaxis=dict(tickmode='linear', tick0=1, dtick=1)\n",
    ")\n",
    "\n",
    "# show plot\n",
    "avg_finish.show()"
   ]
  },
  {
   "attachments": {},
   "cell_type": "markdown",
   "metadata": {},
   "source": [
    "#### Which county has had the most constructors?"
   ]
  },
  {
   "cell_type": "code",
   "execution_count": 235,
   "metadata": {},
   "outputs": [
    {
     "name": "stdout",
     "output_type": "stream",
     "text": [
      "      nationality  count\n",
      "0         british     86\n",
      "1        american     38\n",
      "2         italian     29\n",
      "3          french     13\n",
      "4          german     10\n",
      "5        japanese      5\n",
      "6           swiss      5\n",
      "7           dutch      3\n",
      "8   south african      3\n",
      "9       malaysian      2\n",
      "10       canadian      2\n",
      "11        russian      2\n",
      "12        spanish      1\n",
      "13      rhodesian      1\n",
      "14  new zealander      1\n",
      "15        mexican      1\n",
      "16       austrian      1\n",
      "17    east german      1\n",
      "18        belgian      1\n",
      "19          irish      1\n",
      "20     australian      1\n",
      "21      hong kong      1\n",
      "22      brazilian      1\n",
      "23         indian      1\n"
     ]
    }
   ],
   "source": [
    "# group data\n",
    "constructor_nationality = constructors.groupby('nationality')['name'].nunique().sort_values(ascending=False)\n",
    "constructor_nationality = constructor_nationality.reset_index().rename(columns={'name': 'count'})\n",
    "print(constructor_nationality)\n"
   ]
  },
  {
   "cell_type": "code",
   "execution_count": 236,
   "metadata": {},
   "outputs": [
    {
     "data": {
      "application/vnd.plotly.v1+json": {
       "config": {
        "plotlyServerURL": "https://plot.ly"
       },
       "data": [
        {
         "alignmentgroup": "True",
         "bingroup": "x",
         "histfunc": "sum",
         "hovertemplate": "nationality=%{x}<br>sum of count=%{y}<extra></extra>",
         "legendgroup": "",
         "marker": {
          "color": "#636efa",
          "pattern": {
           "shape": ""
          }
         },
         "name": "",
         "offsetgroup": "",
         "orientation": "v",
         "showlegend": false,
         "type": "histogram",
         "x": [
          "british",
          "american",
          "italian",
          "french",
          "german",
          "japanese",
          "swiss",
          "dutch",
          "south african",
          "malaysian",
          "canadian",
          "russian",
          "spanish",
          "rhodesian",
          "new zealander",
          "mexican",
          "austrian",
          "east german",
          "belgian",
          "irish",
          "australian",
          "hong kong",
          "brazilian",
          "indian"
         ],
         "xaxis": "x",
         "y": [
          86,
          38,
          29,
          13,
          10,
          5,
          5,
          3,
          3,
          2,
          2,
          2,
          1,
          1,
          1,
          1,
          1,
          1,
          1,
          1,
          1,
          1,
          1,
          1
         ],
         "yaxis": "y"
        }
       ],
       "layout": {
        "barmode": "relative",
        "legend": {
         "tracegroupgap": 0
        },
        "margin": {
         "t": 60
        },
        "showlegend": false,
        "template": {
         "data": {
          "bar": [
           {
            "error_x": {
             "color": "#2a3f5f"
            },
            "error_y": {
             "color": "#2a3f5f"
            },
            "marker": {
             "line": {
              "color": "#E5ECF6",
              "width": 0.5
             },
             "pattern": {
              "fillmode": "overlay",
              "size": 10,
              "solidity": 0.2
             }
            },
            "type": "bar"
           }
          ],
          "barpolar": [
           {
            "marker": {
             "line": {
              "color": "#E5ECF6",
              "width": 0.5
             },
             "pattern": {
              "fillmode": "overlay",
              "size": 10,
              "solidity": 0.2
             }
            },
            "type": "barpolar"
           }
          ],
          "carpet": [
           {
            "aaxis": {
             "endlinecolor": "#2a3f5f",
             "gridcolor": "white",
             "linecolor": "white",
             "minorgridcolor": "white",
             "startlinecolor": "#2a3f5f"
            },
            "baxis": {
             "endlinecolor": "#2a3f5f",
             "gridcolor": "white",
             "linecolor": "white",
             "minorgridcolor": "white",
             "startlinecolor": "#2a3f5f"
            },
            "type": "carpet"
           }
          ],
          "choropleth": [
           {
            "colorbar": {
             "outlinewidth": 0,
             "ticks": ""
            },
            "type": "choropleth"
           }
          ],
          "contour": [
           {
            "colorbar": {
             "outlinewidth": 0,
             "ticks": ""
            },
            "colorscale": [
             [
              0,
              "#0d0887"
             ],
             [
              0.1111111111111111,
              "#46039f"
             ],
             [
              0.2222222222222222,
              "#7201a8"
             ],
             [
              0.3333333333333333,
              "#9c179e"
             ],
             [
              0.4444444444444444,
              "#bd3786"
             ],
             [
              0.5555555555555556,
              "#d8576b"
             ],
             [
              0.6666666666666666,
              "#ed7953"
             ],
             [
              0.7777777777777778,
              "#fb9f3a"
             ],
             [
              0.8888888888888888,
              "#fdca26"
             ],
             [
              1,
              "#f0f921"
             ]
            ],
            "type": "contour"
           }
          ],
          "contourcarpet": [
           {
            "colorbar": {
             "outlinewidth": 0,
             "ticks": ""
            },
            "type": "contourcarpet"
           }
          ],
          "heatmap": [
           {
            "colorbar": {
             "outlinewidth": 0,
             "ticks": ""
            },
            "colorscale": [
             [
              0,
              "#0d0887"
             ],
             [
              0.1111111111111111,
              "#46039f"
             ],
             [
              0.2222222222222222,
              "#7201a8"
             ],
             [
              0.3333333333333333,
              "#9c179e"
             ],
             [
              0.4444444444444444,
              "#bd3786"
             ],
             [
              0.5555555555555556,
              "#d8576b"
             ],
             [
              0.6666666666666666,
              "#ed7953"
             ],
             [
              0.7777777777777778,
              "#fb9f3a"
             ],
             [
              0.8888888888888888,
              "#fdca26"
             ],
             [
              1,
              "#f0f921"
             ]
            ],
            "type": "heatmap"
           }
          ],
          "heatmapgl": [
           {
            "colorbar": {
             "outlinewidth": 0,
             "ticks": ""
            },
            "colorscale": [
             [
              0,
              "#0d0887"
             ],
             [
              0.1111111111111111,
              "#46039f"
             ],
             [
              0.2222222222222222,
              "#7201a8"
             ],
             [
              0.3333333333333333,
              "#9c179e"
             ],
             [
              0.4444444444444444,
              "#bd3786"
             ],
             [
              0.5555555555555556,
              "#d8576b"
             ],
             [
              0.6666666666666666,
              "#ed7953"
             ],
             [
              0.7777777777777778,
              "#fb9f3a"
             ],
             [
              0.8888888888888888,
              "#fdca26"
             ],
             [
              1,
              "#f0f921"
             ]
            ],
            "type": "heatmapgl"
           }
          ],
          "histogram": [
           {
            "marker": {
             "pattern": {
              "fillmode": "overlay",
              "size": 10,
              "solidity": 0.2
             }
            },
            "type": "histogram"
           }
          ],
          "histogram2d": [
           {
            "colorbar": {
             "outlinewidth": 0,
             "ticks": ""
            },
            "colorscale": [
             [
              0,
              "#0d0887"
             ],
             [
              0.1111111111111111,
              "#46039f"
             ],
             [
              0.2222222222222222,
              "#7201a8"
             ],
             [
              0.3333333333333333,
              "#9c179e"
             ],
             [
              0.4444444444444444,
              "#bd3786"
             ],
             [
              0.5555555555555556,
              "#d8576b"
             ],
             [
              0.6666666666666666,
              "#ed7953"
             ],
             [
              0.7777777777777778,
              "#fb9f3a"
             ],
             [
              0.8888888888888888,
              "#fdca26"
             ],
             [
              1,
              "#f0f921"
             ]
            ],
            "type": "histogram2d"
           }
          ],
          "histogram2dcontour": [
           {
            "colorbar": {
             "outlinewidth": 0,
             "ticks": ""
            },
            "colorscale": [
             [
              0,
              "#0d0887"
             ],
             [
              0.1111111111111111,
              "#46039f"
             ],
             [
              0.2222222222222222,
              "#7201a8"
             ],
             [
              0.3333333333333333,
              "#9c179e"
             ],
             [
              0.4444444444444444,
              "#bd3786"
             ],
             [
              0.5555555555555556,
              "#d8576b"
             ],
             [
              0.6666666666666666,
              "#ed7953"
             ],
             [
              0.7777777777777778,
              "#fb9f3a"
             ],
             [
              0.8888888888888888,
              "#fdca26"
             ],
             [
              1,
              "#f0f921"
             ]
            ],
            "type": "histogram2dcontour"
           }
          ],
          "mesh3d": [
           {
            "colorbar": {
             "outlinewidth": 0,
             "ticks": ""
            },
            "type": "mesh3d"
           }
          ],
          "parcoords": [
           {
            "line": {
             "colorbar": {
              "outlinewidth": 0,
              "ticks": ""
             }
            },
            "type": "parcoords"
           }
          ],
          "pie": [
           {
            "automargin": true,
            "type": "pie"
           }
          ],
          "scatter": [
           {
            "fillpattern": {
             "fillmode": "overlay",
             "size": 10,
             "solidity": 0.2
            },
            "type": "scatter"
           }
          ],
          "scatter3d": [
           {
            "line": {
             "colorbar": {
              "outlinewidth": 0,
              "ticks": ""
             }
            },
            "marker": {
             "colorbar": {
              "outlinewidth": 0,
              "ticks": ""
             }
            },
            "type": "scatter3d"
           }
          ],
          "scattercarpet": [
           {
            "marker": {
             "colorbar": {
              "outlinewidth": 0,
              "ticks": ""
             }
            },
            "type": "scattercarpet"
           }
          ],
          "scattergeo": [
           {
            "marker": {
             "colorbar": {
              "outlinewidth": 0,
              "ticks": ""
             }
            },
            "type": "scattergeo"
           }
          ],
          "scattergl": [
           {
            "marker": {
             "colorbar": {
              "outlinewidth": 0,
              "ticks": ""
             }
            },
            "type": "scattergl"
           }
          ],
          "scattermapbox": [
           {
            "marker": {
             "colorbar": {
              "outlinewidth": 0,
              "ticks": ""
             }
            },
            "type": "scattermapbox"
           }
          ],
          "scatterpolar": [
           {
            "marker": {
             "colorbar": {
              "outlinewidth": 0,
              "ticks": ""
             }
            },
            "type": "scatterpolar"
           }
          ],
          "scatterpolargl": [
           {
            "marker": {
             "colorbar": {
              "outlinewidth": 0,
              "ticks": ""
             }
            },
            "type": "scatterpolargl"
           }
          ],
          "scatterternary": [
           {
            "marker": {
             "colorbar": {
              "outlinewidth": 0,
              "ticks": ""
             }
            },
            "type": "scatterternary"
           }
          ],
          "surface": [
           {
            "colorbar": {
             "outlinewidth": 0,
             "ticks": ""
            },
            "colorscale": [
             [
              0,
              "#0d0887"
             ],
             [
              0.1111111111111111,
              "#46039f"
             ],
             [
              0.2222222222222222,
              "#7201a8"
             ],
             [
              0.3333333333333333,
              "#9c179e"
             ],
             [
              0.4444444444444444,
              "#bd3786"
             ],
             [
              0.5555555555555556,
              "#d8576b"
             ],
             [
              0.6666666666666666,
              "#ed7953"
             ],
             [
              0.7777777777777778,
              "#fb9f3a"
             ],
             [
              0.8888888888888888,
              "#fdca26"
             ],
             [
              1,
              "#f0f921"
             ]
            ],
            "type": "surface"
           }
          ],
          "table": [
           {
            "cells": {
             "fill": {
              "color": "#EBF0F8"
             },
             "line": {
              "color": "white"
             }
            },
            "header": {
             "fill": {
              "color": "#C8D4E3"
             },
             "line": {
              "color": "white"
             }
            },
            "type": "table"
           }
          ]
         },
         "layout": {
          "annotationdefaults": {
           "arrowcolor": "#2a3f5f",
           "arrowhead": 0,
           "arrowwidth": 1
          },
          "autotypenumbers": "strict",
          "coloraxis": {
           "colorbar": {
            "outlinewidth": 0,
            "ticks": ""
           }
          },
          "colorscale": {
           "diverging": [
            [
             0,
             "#8e0152"
            ],
            [
             0.1,
             "#c51b7d"
            ],
            [
             0.2,
             "#de77ae"
            ],
            [
             0.3,
             "#f1b6da"
            ],
            [
             0.4,
             "#fde0ef"
            ],
            [
             0.5,
             "#f7f7f7"
            ],
            [
             0.6,
             "#e6f5d0"
            ],
            [
             0.7,
             "#b8e186"
            ],
            [
             0.8,
             "#7fbc41"
            ],
            [
             0.9,
             "#4d9221"
            ],
            [
             1,
             "#276419"
            ]
           ],
           "sequential": [
            [
             0,
             "#0d0887"
            ],
            [
             0.1111111111111111,
             "#46039f"
            ],
            [
             0.2222222222222222,
             "#7201a8"
            ],
            [
             0.3333333333333333,
             "#9c179e"
            ],
            [
             0.4444444444444444,
             "#bd3786"
            ],
            [
             0.5555555555555556,
             "#d8576b"
            ],
            [
             0.6666666666666666,
             "#ed7953"
            ],
            [
             0.7777777777777778,
             "#fb9f3a"
            ],
            [
             0.8888888888888888,
             "#fdca26"
            ],
            [
             1,
             "#f0f921"
            ]
           ],
           "sequentialminus": [
            [
             0,
             "#0d0887"
            ],
            [
             0.1111111111111111,
             "#46039f"
            ],
            [
             0.2222222222222222,
             "#7201a8"
            ],
            [
             0.3333333333333333,
             "#9c179e"
            ],
            [
             0.4444444444444444,
             "#bd3786"
            ],
            [
             0.5555555555555556,
             "#d8576b"
            ],
            [
             0.6666666666666666,
             "#ed7953"
            ],
            [
             0.7777777777777778,
             "#fb9f3a"
            ],
            [
             0.8888888888888888,
             "#fdca26"
            ],
            [
             1,
             "#f0f921"
            ]
           ]
          },
          "colorway": [
           "#636efa",
           "#EF553B",
           "#00cc96",
           "#ab63fa",
           "#FFA15A",
           "#19d3f3",
           "#FF6692",
           "#B6E880",
           "#FF97FF",
           "#FECB52"
          ],
          "font": {
           "color": "#2a3f5f"
          },
          "geo": {
           "bgcolor": "white",
           "lakecolor": "white",
           "landcolor": "#E5ECF6",
           "showlakes": true,
           "showland": true,
           "subunitcolor": "white"
          },
          "hoverlabel": {
           "align": "left"
          },
          "hovermode": "closest",
          "mapbox": {
           "style": "light"
          },
          "paper_bgcolor": "white",
          "plot_bgcolor": "#E5ECF6",
          "polar": {
           "angularaxis": {
            "gridcolor": "white",
            "linecolor": "white",
            "ticks": ""
           },
           "bgcolor": "#E5ECF6",
           "radialaxis": {
            "gridcolor": "white",
            "linecolor": "white",
            "ticks": ""
           }
          },
          "scene": {
           "xaxis": {
            "backgroundcolor": "#E5ECF6",
            "gridcolor": "white",
            "gridwidth": 2,
            "linecolor": "white",
            "showbackground": true,
            "ticks": "",
            "zerolinecolor": "white"
           },
           "yaxis": {
            "backgroundcolor": "#E5ECF6",
            "gridcolor": "white",
            "gridwidth": 2,
            "linecolor": "white",
            "showbackground": true,
            "ticks": "",
            "zerolinecolor": "white"
           },
           "zaxis": {
            "backgroundcolor": "#E5ECF6",
            "gridcolor": "white",
            "gridwidth": 2,
            "linecolor": "white",
            "showbackground": true,
            "ticks": "",
            "zerolinecolor": "white"
           }
          },
          "shapedefaults": {
           "line": {
            "color": "#2a3f5f"
           }
          },
          "ternary": {
           "aaxis": {
            "gridcolor": "white",
            "linecolor": "white",
            "ticks": ""
           },
           "baxis": {
            "gridcolor": "white",
            "linecolor": "white",
            "ticks": ""
           },
           "bgcolor": "#E5ECF6",
           "caxis": {
            "gridcolor": "white",
            "linecolor": "white",
            "ticks": ""
           }
          },
          "title": {
           "x": 0.05
          },
          "xaxis": {
           "automargin": true,
           "gridcolor": "white",
           "linecolor": "white",
           "ticks": "",
           "title": {
            "standoff": 15
           },
           "zerolinecolor": "white",
           "zerolinewidth": 2
          },
          "yaxis": {
           "automargin": true,
           "gridcolor": "white",
           "linecolor": "white",
           "ticks": "",
           "title": {
            "standoff": 15
           },
           "zerolinecolor": "white",
           "zerolinewidth": 2
          }
         }
        },
        "title": {
         "text": "Constructor Nationality"
        },
        "xaxis": {
         "anchor": "y",
         "domain": [
          0,
          1
         ],
         "title": {
          "text": "Nationality"
         }
        },
        "yaxis": {
         "anchor": "x",
         "domain": [
          0,
          1
         ],
         "title": {
          "text": "Number of Constructors"
         }
        }
       }
      }
     },
     "metadata": {},
     "output_type": "display_data"
    }
   ],
   "source": [
    "# Create a histogram\n",
    "constructor_nationality_hist = px.histogram(constructor_nationality, x='nationality', y='count')\n",
    "\n",
    "# Update the layout\n",
    "constructor_nationality_hist.update_layout(\n",
    "    showlegend=False,\n",
    "    xaxis=dict(title='Nationality'),\n",
    "    yaxis=dict(title='Number of Constructors'),\n",
    "    title='Constructor Nationality'\n",
    ")\n",
    "\n",
    "# Show the plot\n",
    "constructor_nationality_hist.show()"
   ]
  },
  {
   "attachments": {},
   "cell_type": "markdown",
   "metadata": {},
   "source": [
    "#### How has the amount of races changed over the years?"
   ]
  },
  {
   "cell_type": "code",
   "execution_count": 241,
   "metadata": {},
   "outputs": [
    {
     "data": {
      "application/vnd.plotly.v1+json": {
       "config": {
        "plotlyServerURL": "https://plot.ly"
       },
       "data": [
        {
         "alignmentgroup": "True",
         "bingroup": "x",
         "hovertemplate": "season=%{x}<br>count=%{y}<extra></extra>",
         "legendgroup": "",
         "marker": {
          "color": "#636efa",
          "pattern": {
           "shape": ""
          }
         },
         "name": "",
         "nbinsx": 73,
         "offsetgroup": "",
         "orientation": "v",
         "showlegend": false,
         "type": "histogram",
         "x": [
          "1950-01-01T00:00:00",
          "1950-01-01T00:00:00",
          "1950-01-01T00:00:00",
          "1950-01-01T00:00:00",
          "1950-01-01T00:00:00",
          "1950-01-01T00:00:00",
          "1950-01-01T00:00:00",
          "1951-01-01T00:00:00",
          "1951-01-01T00:00:00",
          "1951-01-01T00:00:00",
          "1951-01-01T00:00:00",
          "1951-01-01T00:00:00",
          "1951-01-01T00:00:00",
          "1951-01-01T00:00:00",
          "1951-01-01T00:00:00",
          "1952-01-01T00:00:00",
          "1952-01-01T00:00:00",
          "1952-01-01T00:00:00",
          "1952-01-01T00:00:00",
          "1952-01-01T00:00:00",
          "1952-01-01T00:00:00",
          "1952-01-01T00:00:00",
          "1952-01-01T00:00:00",
          "1953-01-01T00:00:00",
          "1953-01-01T00:00:00",
          "1953-01-01T00:00:00",
          "1953-01-01T00:00:00",
          "1953-01-01T00:00:00",
          "1953-01-01T00:00:00",
          "1953-01-01T00:00:00",
          "1953-01-01T00:00:00",
          "1953-01-01T00:00:00",
          "1954-01-01T00:00:00",
          "1954-01-01T00:00:00",
          "1954-01-01T00:00:00",
          "1954-01-01T00:00:00",
          "1954-01-01T00:00:00",
          "1954-01-01T00:00:00",
          "1954-01-01T00:00:00",
          "1954-01-01T00:00:00",
          "1954-01-01T00:00:00",
          "1955-01-01T00:00:00",
          "1955-01-01T00:00:00",
          "1955-01-01T00:00:00",
          "1955-01-01T00:00:00",
          "1955-01-01T00:00:00",
          "1955-01-01T00:00:00",
          "1955-01-01T00:00:00",
          "1956-01-01T00:00:00",
          "1956-01-01T00:00:00",
          "1956-01-01T00:00:00",
          "1956-01-01T00:00:00",
          "1956-01-01T00:00:00",
          "1956-01-01T00:00:00",
          "1956-01-01T00:00:00",
          "1956-01-01T00:00:00",
          "1957-01-01T00:00:00",
          "1957-01-01T00:00:00",
          "1957-01-01T00:00:00",
          "1957-01-01T00:00:00",
          "1957-01-01T00:00:00",
          "1957-01-01T00:00:00",
          "1957-01-01T00:00:00",
          "1957-01-01T00:00:00",
          "1958-01-01T00:00:00",
          "1958-01-01T00:00:00",
          "1958-01-01T00:00:00",
          "1958-01-01T00:00:00",
          "1958-01-01T00:00:00",
          "1958-01-01T00:00:00",
          "1958-01-01T00:00:00",
          "1958-01-01T00:00:00",
          "1958-01-01T00:00:00",
          "1958-01-01T00:00:00",
          "1958-01-01T00:00:00",
          "1959-01-01T00:00:00",
          "1959-01-01T00:00:00",
          "1959-01-01T00:00:00",
          "1959-01-01T00:00:00",
          "1959-01-01T00:00:00",
          "1959-01-01T00:00:00",
          "1959-01-01T00:00:00",
          "1959-01-01T00:00:00",
          "1959-01-01T00:00:00",
          "1960-01-01T00:00:00",
          "1960-01-01T00:00:00",
          "1960-01-01T00:00:00",
          "1960-01-01T00:00:00",
          "1960-01-01T00:00:00",
          "1960-01-01T00:00:00",
          "1960-01-01T00:00:00",
          "1960-01-01T00:00:00",
          "1960-01-01T00:00:00",
          "1960-01-01T00:00:00",
          "1961-01-01T00:00:00",
          "1961-01-01T00:00:00",
          "1961-01-01T00:00:00",
          "1961-01-01T00:00:00",
          "1961-01-01T00:00:00",
          "1961-01-01T00:00:00",
          "1961-01-01T00:00:00",
          "1961-01-01T00:00:00",
          "1962-01-01T00:00:00",
          "1962-01-01T00:00:00",
          "1962-01-01T00:00:00",
          "1962-01-01T00:00:00",
          "1962-01-01T00:00:00",
          "1962-01-01T00:00:00",
          "1962-01-01T00:00:00",
          "1962-01-01T00:00:00",
          "1962-01-01T00:00:00",
          "1963-01-01T00:00:00",
          "1963-01-01T00:00:00",
          "1963-01-01T00:00:00",
          "1963-01-01T00:00:00",
          "1963-01-01T00:00:00",
          "1963-01-01T00:00:00",
          "1963-01-01T00:00:00",
          "1963-01-01T00:00:00",
          "1963-01-01T00:00:00",
          "1963-01-01T00:00:00",
          "1964-01-01T00:00:00",
          "1964-01-01T00:00:00",
          "1964-01-01T00:00:00",
          "1964-01-01T00:00:00",
          "1964-01-01T00:00:00",
          "1964-01-01T00:00:00",
          "1964-01-01T00:00:00",
          "1964-01-01T00:00:00",
          "1964-01-01T00:00:00",
          "1964-01-01T00:00:00",
          "1965-01-01T00:00:00",
          "1965-01-01T00:00:00",
          "1965-01-01T00:00:00",
          "1965-01-01T00:00:00",
          "1965-01-01T00:00:00",
          "1965-01-01T00:00:00",
          "1965-01-01T00:00:00",
          "1965-01-01T00:00:00",
          "1965-01-01T00:00:00",
          "1965-01-01T00:00:00",
          "1966-01-01T00:00:00",
          "1966-01-01T00:00:00",
          "1966-01-01T00:00:00",
          "1966-01-01T00:00:00",
          "1966-01-01T00:00:00",
          "1966-01-01T00:00:00",
          "1966-01-01T00:00:00",
          "1966-01-01T00:00:00",
          "1966-01-01T00:00:00",
          "1967-01-01T00:00:00",
          "1967-01-01T00:00:00",
          "1967-01-01T00:00:00",
          "1967-01-01T00:00:00",
          "1967-01-01T00:00:00",
          "1967-01-01T00:00:00",
          "1967-01-01T00:00:00",
          "1967-01-01T00:00:00",
          "1967-01-01T00:00:00",
          "1967-01-01T00:00:00",
          "1967-01-01T00:00:00",
          "1968-01-01T00:00:00",
          "1968-01-01T00:00:00",
          "1968-01-01T00:00:00",
          "1968-01-01T00:00:00",
          "1968-01-01T00:00:00",
          "1968-01-01T00:00:00",
          "1968-01-01T00:00:00",
          "1968-01-01T00:00:00",
          "1968-01-01T00:00:00",
          "1968-01-01T00:00:00",
          "1968-01-01T00:00:00",
          "1968-01-01T00:00:00",
          "1969-01-01T00:00:00",
          "1969-01-01T00:00:00",
          "1969-01-01T00:00:00",
          "1969-01-01T00:00:00",
          "1969-01-01T00:00:00",
          "1969-01-01T00:00:00",
          "1969-01-01T00:00:00",
          "1969-01-01T00:00:00",
          "1969-01-01T00:00:00",
          "1969-01-01T00:00:00",
          "1969-01-01T00:00:00",
          "1970-01-01T00:00:00",
          "1970-01-01T00:00:00",
          "1970-01-01T00:00:00",
          "1970-01-01T00:00:00",
          "1970-01-01T00:00:00",
          "1970-01-01T00:00:00",
          "1970-01-01T00:00:00",
          "1970-01-01T00:00:00",
          "1970-01-01T00:00:00",
          "1970-01-01T00:00:00",
          "1970-01-01T00:00:00",
          "1970-01-01T00:00:00",
          "1970-01-01T00:00:00",
          "1971-01-01T00:00:00",
          "1971-01-01T00:00:00",
          "1971-01-01T00:00:00",
          "1971-01-01T00:00:00",
          "1971-01-01T00:00:00",
          "1971-01-01T00:00:00",
          "1971-01-01T00:00:00",
          "1971-01-01T00:00:00",
          "1971-01-01T00:00:00",
          "1971-01-01T00:00:00",
          "1971-01-01T00:00:00",
          "1972-01-01T00:00:00",
          "1972-01-01T00:00:00",
          "1972-01-01T00:00:00",
          "1972-01-01T00:00:00",
          "1972-01-01T00:00:00",
          "1972-01-01T00:00:00",
          "1972-01-01T00:00:00",
          "1972-01-01T00:00:00",
          "1972-01-01T00:00:00",
          "1972-01-01T00:00:00",
          "1972-01-01T00:00:00",
          "1972-01-01T00:00:00",
          "1973-01-01T00:00:00",
          "1973-01-01T00:00:00",
          "1973-01-01T00:00:00",
          "1973-01-01T00:00:00",
          "1973-01-01T00:00:00",
          "1973-01-01T00:00:00",
          "1973-01-01T00:00:00",
          "1973-01-01T00:00:00",
          "1973-01-01T00:00:00",
          "1973-01-01T00:00:00",
          "1973-01-01T00:00:00",
          "1973-01-01T00:00:00",
          "1973-01-01T00:00:00",
          "1973-01-01T00:00:00",
          "1973-01-01T00:00:00",
          "1974-01-01T00:00:00",
          "1974-01-01T00:00:00",
          "1974-01-01T00:00:00",
          "1974-01-01T00:00:00",
          "1974-01-01T00:00:00",
          "1974-01-01T00:00:00",
          "1974-01-01T00:00:00",
          "1974-01-01T00:00:00",
          "1974-01-01T00:00:00",
          "1974-01-01T00:00:00",
          "1974-01-01T00:00:00",
          "1974-01-01T00:00:00",
          "1974-01-01T00:00:00",
          "1974-01-01T00:00:00",
          "1974-01-01T00:00:00",
          "1975-01-01T00:00:00",
          "1975-01-01T00:00:00",
          "1975-01-01T00:00:00",
          "1975-01-01T00:00:00",
          "1975-01-01T00:00:00",
          "1975-01-01T00:00:00",
          "1975-01-01T00:00:00",
          "1975-01-01T00:00:00",
          "1975-01-01T00:00:00",
          "1975-01-01T00:00:00",
          "1975-01-01T00:00:00",
          "1975-01-01T00:00:00",
          "1975-01-01T00:00:00",
          "1975-01-01T00:00:00",
          "1976-01-01T00:00:00",
          "1976-01-01T00:00:00",
          "1976-01-01T00:00:00",
          "1976-01-01T00:00:00",
          "1976-01-01T00:00:00",
          "1976-01-01T00:00:00",
          "1976-01-01T00:00:00",
          "1976-01-01T00:00:00",
          "1976-01-01T00:00:00",
          "1976-01-01T00:00:00",
          "1976-01-01T00:00:00",
          "1976-01-01T00:00:00",
          "1976-01-01T00:00:00",
          "1976-01-01T00:00:00",
          "1976-01-01T00:00:00",
          "1976-01-01T00:00:00",
          "1977-01-01T00:00:00",
          "1977-01-01T00:00:00",
          "1977-01-01T00:00:00",
          "1977-01-01T00:00:00",
          "1977-01-01T00:00:00",
          "1977-01-01T00:00:00",
          "1977-01-01T00:00:00",
          "1977-01-01T00:00:00",
          "1977-01-01T00:00:00",
          "1977-01-01T00:00:00",
          "1977-01-01T00:00:00",
          "1977-01-01T00:00:00",
          "1977-01-01T00:00:00",
          "1977-01-01T00:00:00",
          "1977-01-01T00:00:00",
          "1977-01-01T00:00:00",
          "1977-01-01T00:00:00",
          "1978-01-01T00:00:00",
          "1978-01-01T00:00:00",
          "1978-01-01T00:00:00",
          "1978-01-01T00:00:00",
          "1978-01-01T00:00:00",
          "1978-01-01T00:00:00",
          "1978-01-01T00:00:00",
          "1978-01-01T00:00:00",
          "1978-01-01T00:00:00",
          "1978-01-01T00:00:00",
          "1978-01-01T00:00:00",
          "1978-01-01T00:00:00",
          "1978-01-01T00:00:00",
          "1978-01-01T00:00:00",
          "1978-01-01T00:00:00",
          "1978-01-01T00:00:00",
          "1979-01-01T00:00:00",
          "1979-01-01T00:00:00",
          "1979-01-01T00:00:00",
          "1979-01-01T00:00:00",
          "1979-01-01T00:00:00",
          "1979-01-01T00:00:00",
          "1979-01-01T00:00:00",
          "1979-01-01T00:00:00",
          "1979-01-01T00:00:00",
          "1979-01-01T00:00:00",
          "1979-01-01T00:00:00",
          "1979-01-01T00:00:00",
          "1979-01-01T00:00:00",
          "1979-01-01T00:00:00",
          "1979-01-01T00:00:00",
          "1980-01-01T00:00:00",
          "1980-01-01T00:00:00",
          "1980-01-01T00:00:00",
          "1980-01-01T00:00:00",
          "1980-01-01T00:00:00",
          "1980-01-01T00:00:00",
          "1980-01-01T00:00:00",
          "1980-01-01T00:00:00",
          "1980-01-01T00:00:00",
          "1980-01-01T00:00:00",
          "1980-01-01T00:00:00",
          "1980-01-01T00:00:00",
          "1980-01-01T00:00:00",
          "1980-01-01T00:00:00",
          "1981-01-01T00:00:00",
          "1981-01-01T00:00:00",
          "1981-01-01T00:00:00",
          "1981-01-01T00:00:00",
          "1981-01-01T00:00:00",
          "1981-01-01T00:00:00",
          "1981-01-01T00:00:00",
          "1981-01-01T00:00:00",
          "1981-01-01T00:00:00",
          "1981-01-01T00:00:00",
          "1981-01-01T00:00:00",
          "1981-01-01T00:00:00",
          "1981-01-01T00:00:00",
          "1981-01-01T00:00:00",
          "1981-01-01T00:00:00",
          "1982-01-01T00:00:00",
          "1982-01-01T00:00:00",
          "1982-01-01T00:00:00",
          "1982-01-01T00:00:00",
          "1982-01-01T00:00:00",
          "1982-01-01T00:00:00",
          "1982-01-01T00:00:00",
          "1982-01-01T00:00:00",
          "1982-01-01T00:00:00",
          "1982-01-01T00:00:00",
          "1982-01-01T00:00:00",
          "1982-01-01T00:00:00",
          "1982-01-01T00:00:00",
          "1982-01-01T00:00:00",
          "1982-01-01T00:00:00",
          "1982-01-01T00:00:00",
          "1983-01-01T00:00:00",
          "1983-01-01T00:00:00",
          "1983-01-01T00:00:00",
          "1983-01-01T00:00:00",
          "1983-01-01T00:00:00",
          "1983-01-01T00:00:00",
          "1983-01-01T00:00:00",
          "1983-01-01T00:00:00",
          "1983-01-01T00:00:00",
          "1983-01-01T00:00:00",
          "1983-01-01T00:00:00",
          "1983-01-01T00:00:00",
          "1983-01-01T00:00:00",
          "1983-01-01T00:00:00",
          "1983-01-01T00:00:00",
          "1984-01-01T00:00:00",
          "1984-01-01T00:00:00",
          "1984-01-01T00:00:00",
          "1984-01-01T00:00:00",
          "1984-01-01T00:00:00",
          "1984-01-01T00:00:00",
          "1984-01-01T00:00:00",
          "1984-01-01T00:00:00",
          "1984-01-01T00:00:00",
          "1984-01-01T00:00:00",
          "1984-01-01T00:00:00",
          "1984-01-01T00:00:00",
          "1984-01-01T00:00:00",
          "1984-01-01T00:00:00",
          "1984-01-01T00:00:00",
          "1984-01-01T00:00:00",
          "1985-01-01T00:00:00",
          "1985-01-01T00:00:00",
          "1985-01-01T00:00:00",
          "1985-01-01T00:00:00",
          "1985-01-01T00:00:00",
          "1985-01-01T00:00:00",
          "1985-01-01T00:00:00",
          "1985-01-01T00:00:00",
          "1985-01-01T00:00:00",
          "1985-01-01T00:00:00",
          "1985-01-01T00:00:00",
          "1985-01-01T00:00:00",
          "1985-01-01T00:00:00",
          "1985-01-01T00:00:00",
          "1985-01-01T00:00:00",
          "1985-01-01T00:00:00",
          "1986-01-01T00:00:00",
          "1986-01-01T00:00:00",
          "1986-01-01T00:00:00",
          "1986-01-01T00:00:00",
          "1986-01-01T00:00:00",
          "1986-01-01T00:00:00",
          "1986-01-01T00:00:00",
          "1986-01-01T00:00:00",
          "1986-01-01T00:00:00",
          "1986-01-01T00:00:00",
          "1986-01-01T00:00:00",
          "1986-01-01T00:00:00",
          "1986-01-01T00:00:00",
          "1986-01-01T00:00:00",
          "1986-01-01T00:00:00",
          "1986-01-01T00:00:00",
          "1987-01-01T00:00:00",
          "1987-01-01T00:00:00",
          "1987-01-01T00:00:00",
          "1987-01-01T00:00:00",
          "1987-01-01T00:00:00",
          "1987-01-01T00:00:00",
          "1987-01-01T00:00:00",
          "1987-01-01T00:00:00",
          "1987-01-01T00:00:00",
          "1987-01-01T00:00:00",
          "1987-01-01T00:00:00",
          "1987-01-01T00:00:00",
          "1987-01-01T00:00:00",
          "1987-01-01T00:00:00",
          "1987-01-01T00:00:00",
          "1987-01-01T00:00:00",
          "1988-01-01T00:00:00",
          "1988-01-01T00:00:00",
          "1988-01-01T00:00:00",
          "1988-01-01T00:00:00",
          "1988-01-01T00:00:00",
          "1988-01-01T00:00:00",
          "1988-01-01T00:00:00",
          "1988-01-01T00:00:00",
          "1988-01-01T00:00:00",
          "1988-01-01T00:00:00",
          "1988-01-01T00:00:00",
          "1988-01-01T00:00:00",
          "1988-01-01T00:00:00",
          "1988-01-01T00:00:00",
          "1988-01-01T00:00:00",
          "1988-01-01T00:00:00",
          "1989-01-01T00:00:00",
          "1989-01-01T00:00:00",
          "1989-01-01T00:00:00",
          "1989-01-01T00:00:00",
          "1989-01-01T00:00:00",
          "1989-01-01T00:00:00",
          "1989-01-01T00:00:00",
          "1989-01-01T00:00:00",
          "1989-01-01T00:00:00",
          "1989-01-01T00:00:00",
          "1989-01-01T00:00:00",
          "1989-01-01T00:00:00",
          "1989-01-01T00:00:00",
          "1989-01-01T00:00:00",
          "1989-01-01T00:00:00",
          "1989-01-01T00:00:00",
          "1990-01-01T00:00:00",
          "1990-01-01T00:00:00",
          "1990-01-01T00:00:00",
          "1990-01-01T00:00:00",
          "1990-01-01T00:00:00",
          "1990-01-01T00:00:00",
          "1990-01-01T00:00:00",
          "1990-01-01T00:00:00",
          "1990-01-01T00:00:00",
          "1990-01-01T00:00:00",
          "1990-01-01T00:00:00",
          "1990-01-01T00:00:00",
          "1990-01-01T00:00:00",
          "1990-01-01T00:00:00",
          "1990-01-01T00:00:00",
          "1990-01-01T00:00:00",
          "1991-01-01T00:00:00",
          "1991-01-01T00:00:00",
          "1991-01-01T00:00:00",
          "1991-01-01T00:00:00",
          "1991-01-01T00:00:00",
          "1991-01-01T00:00:00",
          "1991-01-01T00:00:00",
          "1991-01-01T00:00:00",
          "1991-01-01T00:00:00",
          "1991-01-01T00:00:00",
          "1991-01-01T00:00:00",
          "1991-01-01T00:00:00",
          "1991-01-01T00:00:00",
          "1991-01-01T00:00:00",
          "1991-01-01T00:00:00",
          "1991-01-01T00:00:00",
          "1992-01-01T00:00:00",
          "1992-01-01T00:00:00",
          "1992-01-01T00:00:00",
          "1992-01-01T00:00:00",
          "1992-01-01T00:00:00",
          "1992-01-01T00:00:00",
          "1992-01-01T00:00:00",
          "1992-01-01T00:00:00",
          "1992-01-01T00:00:00",
          "1992-01-01T00:00:00",
          "1992-01-01T00:00:00",
          "1992-01-01T00:00:00",
          "1992-01-01T00:00:00",
          "1992-01-01T00:00:00",
          "1992-01-01T00:00:00",
          "1992-01-01T00:00:00",
          "1993-01-01T00:00:00",
          "1993-01-01T00:00:00",
          "1993-01-01T00:00:00",
          "1993-01-01T00:00:00",
          "1993-01-01T00:00:00",
          "1993-01-01T00:00:00",
          "1993-01-01T00:00:00",
          "1993-01-01T00:00:00",
          "1993-01-01T00:00:00",
          "1993-01-01T00:00:00",
          "1993-01-01T00:00:00",
          "1993-01-01T00:00:00",
          "1993-01-01T00:00:00",
          "1993-01-01T00:00:00",
          "1993-01-01T00:00:00",
          "1993-01-01T00:00:00",
          "1994-01-01T00:00:00",
          "1994-01-01T00:00:00",
          "1994-01-01T00:00:00",
          "1994-01-01T00:00:00",
          "1994-01-01T00:00:00",
          "1994-01-01T00:00:00",
          "1994-01-01T00:00:00",
          "1994-01-01T00:00:00",
          "1994-01-01T00:00:00",
          "1994-01-01T00:00:00",
          "1994-01-01T00:00:00",
          "1994-01-01T00:00:00",
          "1994-01-01T00:00:00",
          "1994-01-01T00:00:00",
          "1994-01-01T00:00:00",
          "1994-01-01T00:00:00",
          "1995-01-01T00:00:00",
          "1995-01-01T00:00:00",
          "1995-01-01T00:00:00",
          "1995-01-01T00:00:00",
          "1995-01-01T00:00:00",
          "1995-01-01T00:00:00",
          "1995-01-01T00:00:00",
          "1995-01-01T00:00:00",
          "1995-01-01T00:00:00",
          "1995-01-01T00:00:00",
          "1995-01-01T00:00:00",
          "1995-01-01T00:00:00",
          "1995-01-01T00:00:00",
          "1995-01-01T00:00:00",
          "1995-01-01T00:00:00",
          "1995-01-01T00:00:00",
          "1995-01-01T00:00:00",
          "1996-01-01T00:00:00",
          "1996-01-01T00:00:00",
          "1996-01-01T00:00:00",
          "1996-01-01T00:00:00",
          "1996-01-01T00:00:00",
          "1996-01-01T00:00:00",
          "1996-01-01T00:00:00",
          "1996-01-01T00:00:00",
          "1996-01-01T00:00:00",
          "1996-01-01T00:00:00",
          "1996-01-01T00:00:00",
          "1996-01-01T00:00:00",
          "1996-01-01T00:00:00",
          "1996-01-01T00:00:00",
          "1996-01-01T00:00:00",
          "1996-01-01T00:00:00",
          "1997-01-01T00:00:00",
          "1997-01-01T00:00:00",
          "1997-01-01T00:00:00",
          "1997-01-01T00:00:00",
          "1997-01-01T00:00:00",
          "1997-01-01T00:00:00",
          "1997-01-01T00:00:00",
          "1997-01-01T00:00:00",
          "1997-01-01T00:00:00",
          "1997-01-01T00:00:00",
          "1997-01-01T00:00:00",
          "1997-01-01T00:00:00",
          "1997-01-01T00:00:00",
          "1997-01-01T00:00:00",
          "1997-01-01T00:00:00",
          "1997-01-01T00:00:00",
          "1997-01-01T00:00:00",
          "1998-01-01T00:00:00",
          "1998-01-01T00:00:00",
          "1998-01-01T00:00:00",
          "1998-01-01T00:00:00",
          "1998-01-01T00:00:00",
          "1998-01-01T00:00:00",
          "1998-01-01T00:00:00",
          "1998-01-01T00:00:00",
          "1998-01-01T00:00:00",
          "1998-01-01T00:00:00",
          "1998-01-01T00:00:00",
          "1998-01-01T00:00:00",
          "1998-01-01T00:00:00",
          "1998-01-01T00:00:00",
          "1998-01-01T00:00:00",
          "1998-01-01T00:00:00",
          "1999-01-01T00:00:00",
          "1999-01-01T00:00:00",
          "1999-01-01T00:00:00",
          "1999-01-01T00:00:00",
          "1999-01-01T00:00:00",
          "1999-01-01T00:00:00",
          "1999-01-01T00:00:00",
          "1999-01-01T00:00:00",
          "1999-01-01T00:00:00",
          "1999-01-01T00:00:00",
          "1999-01-01T00:00:00",
          "1999-01-01T00:00:00",
          "1999-01-01T00:00:00",
          "1999-01-01T00:00:00",
          "1999-01-01T00:00:00",
          "1999-01-01T00:00:00",
          "2000-01-01T00:00:00",
          "2000-01-01T00:00:00",
          "2000-01-01T00:00:00",
          "2000-01-01T00:00:00",
          "2000-01-01T00:00:00",
          "2000-01-01T00:00:00",
          "2000-01-01T00:00:00",
          "2000-01-01T00:00:00",
          "2000-01-01T00:00:00",
          "2000-01-01T00:00:00",
          "2000-01-01T00:00:00",
          "2000-01-01T00:00:00",
          "2000-01-01T00:00:00",
          "2000-01-01T00:00:00",
          "2000-01-01T00:00:00",
          "2000-01-01T00:00:00",
          "2000-01-01T00:00:00",
          "2001-01-01T00:00:00",
          "2001-01-01T00:00:00",
          "2001-01-01T00:00:00",
          "2001-01-01T00:00:00",
          "2001-01-01T00:00:00",
          "2001-01-01T00:00:00",
          "2001-01-01T00:00:00",
          "2001-01-01T00:00:00",
          "2001-01-01T00:00:00",
          "2001-01-01T00:00:00",
          "2001-01-01T00:00:00",
          "2001-01-01T00:00:00",
          "2001-01-01T00:00:00",
          "2001-01-01T00:00:00",
          "2001-01-01T00:00:00",
          "2001-01-01T00:00:00",
          "2001-01-01T00:00:00",
          "2002-01-01T00:00:00",
          "2002-01-01T00:00:00",
          "2002-01-01T00:00:00",
          "2002-01-01T00:00:00",
          "2002-01-01T00:00:00",
          "2002-01-01T00:00:00",
          "2002-01-01T00:00:00",
          "2002-01-01T00:00:00",
          "2002-01-01T00:00:00",
          "2002-01-01T00:00:00",
          "2002-01-01T00:00:00",
          "2002-01-01T00:00:00",
          "2002-01-01T00:00:00",
          "2002-01-01T00:00:00",
          "2002-01-01T00:00:00",
          "2002-01-01T00:00:00",
          "2002-01-01T00:00:00",
          "2003-01-01T00:00:00",
          "2003-01-01T00:00:00",
          "2003-01-01T00:00:00",
          "2003-01-01T00:00:00",
          "2003-01-01T00:00:00",
          "2003-01-01T00:00:00",
          "2003-01-01T00:00:00",
          "2003-01-01T00:00:00",
          "2003-01-01T00:00:00",
          "2003-01-01T00:00:00",
          "2003-01-01T00:00:00",
          "2003-01-01T00:00:00",
          "2003-01-01T00:00:00",
          "2003-01-01T00:00:00",
          "2003-01-01T00:00:00",
          "2003-01-01T00:00:00",
          "2004-01-01T00:00:00",
          "2004-01-01T00:00:00",
          "2004-01-01T00:00:00",
          "2004-01-01T00:00:00",
          "2004-01-01T00:00:00",
          "2004-01-01T00:00:00",
          "2004-01-01T00:00:00",
          "2004-01-01T00:00:00",
          "2004-01-01T00:00:00",
          "2004-01-01T00:00:00",
          "2004-01-01T00:00:00",
          "2004-01-01T00:00:00",
          "2004-01-01T00:00:00",
          "2004-01-01T00:00:00",
          "2004-01-01T00:00:00",
          "2004-01-01T00:00:00",
          "2004-01-01T00:00:00",
          "2004-01-01T00:00:00",
          "2005-01-01T00:00:00",
          "2005-01-01T00:00:00",
          "2005-01-01T00:00:00",
          "2005-01-01T00:00:00",
          "2005-01-01T00:00:00",
          "2005-01-01T00:00:00",
          "2005-01-01T00:00:00",
          "2005-01-01T00:00:00",
          "2005-01-01T00:00:00",
          "2005-01-01T00:00:00",
          "2005-01-01T00:00:00",
          "2005-01-01T00:00:00",
          "2005-01-01T00:00:00",
          "2005-01-01T00:00:00",
          "2005-01-01T00:00:00",
          "2005-01-01T00:00:00",
          "2005-01-01T00:00:00",
          "2005-01-01T00:00:00",
          "2005-01-01T00:00:00",
          "2006-01-01T00:00:00",
          "2006-01-01T00:00:00",
          "2006-01-01T00:00:00",
          "2006-01-01T00:00:00",
          "2006-01-01T00:00:00",
          "2006-01-01T00:00:00",
          "2006-01-01T00:00:00",
          "2006-01-01T00:00:00",
          "2006-01-01T00:00:00",
          "2006-01-01T00:00:00",
          "2006-01-01T00:00:00",
          "2006-01-01T00:00:00",
          "2006-01-01T00:00:00",
          "2006-01-01T00:00:00",
          "2006-01-01T00:00:00",
          "2006-01-01T00:00:00",
          "2006-01-01T00:00:00",
          "2006-01-01T00:00:00",
          "2007-01-01T00:00:00",
          "2007-01-01T00:00:00",
          "2007-01-01T00:00:00",
          "2007-01-01T00:00:00",
          "2007-01-01T00:00:00",
          "2007-01-01T00:00:00",
          "2007-01-01T00:00:00",
          "2007-01-01T00:00:00",
          "2007-01-01T00:00:00",
          "2007-01-01T00:00:00",
          "2007-01-01T00:00:00",
          "2007-01-01T00:00:00",
          "2007-01-01T00:00:00",
          "2007-01-01T00:00:00",
          "2007-01-01T00:00:00",
          "2007-01-01T00:00:00",
          "2007-01-01T00:00:00",
          "2008-01-01T00:00:00",
          "2008-01-01T00:00:00",
          "2008-01-01T00:00:00",
          "2008-01-01T00:00:00",
          "2008-01-01T00:00:00",
          "2008-01-01T00:00:00",
          "2008-01-01T00:00:00",
          "2008-01-01T00:00:00",
          "2008-01-01T00:00:00",
          "2008-01-01T00:00:00",
          "2008-01-01T00:00:00",
          "2008-01-01T00:00:00",
          "2008-01-01T00:00:00",
          "2008-01-01T00:00:00",
          "2008-01-01T00:00:00",
          "2008-01-01T00:00:00",
          "2008-01-01T00:00:00",
          "2008-01-01T00:00:00",
          "2009-01-01T00:00:00",
          "2009-01-01T00:00:00",
          "2009-01-01T00:00:00",
          "2009-01-01T00:00:00",
          "2009-01-01T00:00:00",
          "2009-01-01T00:00:00",
          "2009-01-01T00:00:00",
          "2009-01-01T00:00:00",
          "2009-01-01T00:00:00",
          "2009-01-01T00:00:00",
          "2009-01-01T00:00:00",
          "2009-01-01T00:00:00",
          "2009-01-01T00:00:00",
          "2009-01-01T00:00:00",
          "2009-01-01T00:00:00",
          "2009-01-01T00:00:00",
          "2009-01-01T00:00:00",
          "2010-01-01T00:00:00",
          "2010-01-01T00:00:00",
          "2010-01-01T00:00:00",
          "2010-01-01T00:00:00",
          "2010-01-01T00:00:00",
          "2010-01-01T00:00:00",
          "2010-01-01T00:00:00",
          "2010-01-01T00:00:00",
          "2010-01-01T00:00:00",
          "2010-01-01T00:00:00",
          "2010-01-01T00:00:00",
          "2010-01-01T00:00:00",
          "2010-01-01T00:00:00",
          "2010-01-01T00:00:00",
          "2010-01-01T00:00:00",
          "2010-01-01T00:00:00",
          "2010-01-01T00:00:00",
          "2010-01-01T00:00:00",
          "2010-01-01T00:00:00",
          "2011-01-01T00:00:00",
          "2011-01-01T00:00:00",
          "2011-01-01T00:00:00",
          "2011-01-01T00:00:00",
          "2011-01-01T00:00:00",
          "2011-01-01T00:00:00",
          "2011-01-01T00:00:00",
          "2011-01-01T00:00:00",
          "2011-01-01T00:00:00",
          "2011-01-01T00:00:00",
          "2011-01-01T00:00:00",
          "2011-01-01T00:00:00",
          "2011-01-01T00:00:00",
          "2011-01-01T00:00:00",
          "2011-01-01T00:00:00",
          "2011-01-01T00:00:00",
          "2011-01-01T00:00:00",
          "2011-01-01T00:00:00",
          "2011-01-01T00:00:00",
          "2012-01-01T00:00:00",
          "2012-01-01T00:00:00",
          "2012-01-01T00:00:00",
          "2012-01-01T00:00:00",
          "2012-01-01T00:00:00",
          "2012-01-01T00:00:00",
          "2012-01-01T00:00:00",
          "2012-01-01T00:00:00",
          "2012-01-01T00:00:00",
          "2012-01-01T00:00:00",
          "2012-01-01T00:00:00",
          "2012-01-01T00:00:00",
          "2012-01-01T00:00:00",
          "2012-01-01T00:00:00",
          "2012-01-01T00:00:00",
          "2012-01-01T00:00:00",
          "2012-01-01T00:00:00",
          "2012-01-01T00:00:00",
          "2012-01-01T00:00:00",
          "2012-01-01T00:00:00",
          "2013-01-01T00:00:00",
          "2013-01-01T00:00:00",
          "2013-01-01T00:00:00",
          "2013-01-01T00:00:00",
          "2013-01-01T00:00:00",
          "2013-01-01T00:00:00",
          "2013-01-01T00:00:00",
          "2013-01-01T00:00:00",
          "2013-01-01T00:00:00",
          "2013-01-01T00:00:00",
          "2013-01-01T00:00:00",
          "2013-01-01T00:00:00",
          "2013-01-01T00:00:00",
          "2013-01-01T00:00:00",
          "2013-01-01T00:00:00",
          "2013-01-01T00:00:00",
          "2013-01-01T00:00:00",
          "2013-01-01T00:00:00",
          "2013-01-01T00:00:00",
          "2014-01-01T00:00:00",
          "2014-01-01T00:00:00",
          "2014-01-01T00:00:00",
          "2014-01-01T00:00:00",
          "2014-01-01T00:00:00",
          "2014-01-01T00:00:00",
          "2014-01-01T00:00:00",
          "2014-01-01T00:00:00",
          "2014-01-01T00:00:00",
          "2014-01-01T00:00:00",
          "2014-01-01T00:00:00",
          "2014-01-01T00:00:00",
          "2014-01-01T00:00:00",
          "2014-01-01T00:00:00",
          "2014-01-01T00:00:00",
          "2014-01-01T00:00:00",
          "2014-01-01T00:00:00",
          "2014-01-01T00:00:00",
          "2014-01-01T00:00:00",
          "2015-01-01T00:00:00",
          "2015-01-01T00:00:00",
          "2015-01-01T00:00:00",
          "2015-01-01T00:00:00",
          "2015-01-01T00:00:00",
          "2015-01-01T00:00:00",
          "2015-01-01T00:00:00",
          "2015-01-01T00:00:00",
          "2015-01-01T00:00:00",
          "2015-01-01T00:00:00",
          "2015-01-01T00:00:00",
          "2015-01-01T00:00:00",
          "2015-01-01T00:00:00",
          "2015-01-01T00:00:00",
          "2015-01-01T00:00:00",
          "2015-01-01T00:00:00",
          "2015-01-01T00:00:00",
          "2015-01-01T00:00:00",
          "2015-01-01T00:00:00",
          "2016-01-01T00:00:00",
          "2016-01-01T00:00:00",
          "2016-01-01T00:00:00",
          "2016-01-01T00:00:00",
          "2016-01-01T00:00:00",
          "2016-01-01T00:00:00",
          "2016-01-01T00:00:00",
          "2016-01-01T00:00:00",
          "2016-01-01T00:00:00",
          "2016-01-01T00:00:00",
          "2016-01-01T00:00:00",
          "2016-01-01T00:00:00",
          "2016-01-01T00:00:00",
          "2016-01-01T00:00:00",
          "2016-01-01T00:00:00",
          "2016-01-01T00:00:00",
          "2016-01-01T00:00:00",
          "2016-01-01T00:00:00",
          "2016-01-01T00:00:00",
          "2016-01-01T00:00:00",
          "2016-01-01T00:00:00",
          "2017-01-01T00:00:00",
          "2017-01-01T00:00:00",
          "2017-01-01T00:00:00",
          "2017-01-01T00:00:00",
          "2017-01-01T00:00:00",
          "2017-01-01T00:00:00",
          "2017-01-01T00:00:00",
          "2017-01-01T00:00:00",
          "2017-01-01T00:00:00",
          "2017-01-01T00:00:00",
          "2017-01-01T00:00:00",
          "2017-01-01T00:00:00",
          "2017-01-01T00:00:00",
          "2017-01-01T00:00:00",
          "2017-01-01T00:00:00",
          "2017-01-01T00:00:00",
          "2017-01-01T00:00:00",
          "2017-01-01T00:00:00",
          "2017-01-01T00:00:00",
          "2017-01-01T00:00:00",
          "2018-01-01T00:00:00",
          "2018-01-01T00:00:00",
          "2018-01-01T00:00:00",
          "2018-01-01T00:00:00",
          "2018-01-01T00:00:00",
          "2018-01-01T00:00:00",
          "2018-01-01T00:00:00",
          "2018-01-01T00:00:00",
          "2018-01-01T00:00:00",
          "2018-01-01T00:00:00",
          "2018-01-01T00:00:00",
          "2018-01-01T00:00:00",
          "2018-01-01T00:00:00",
          "2018-01-01T00:00:00",
          "2018-01-01T00:00:00",
          "2018-01-01T00:00:00",
          "2018-01-01T00:00:00",
          "2018-01-01T00:00:00",
          "2018-01-01T00:00:00",
          "2018-01-01T00:00:00",
          "2018-01-01T00:00:00",
          "2019-01-01T00:00:00",
          "2019-01-01T00:00:00",
          "2019-01-01T00:00:00",
          "2019-01-01T00:00:00",
          "2019-01-01T00:00:00",
          "2019-01-01T00:00:00",
          "2019-01-01T00:00:00",
          "2019-01-01T00:00:00",
          "2019-01-01T00:00:00",
          "2019-01-01T00:00:00",
          "2019-01-01T00:00:00",
          "2019-01-01T00:00:00",
          "2019-01-01T00:00:00",
          "2019-01-01T00:00:00",
          "2019-01-01T00:00:00",
          "2019-01-01T00:00:00",
          "2019-01-01T00:00:00",
          "2019-01-01T00:00:00",
          "2019-01-01T00:00:00",
          "2019-01-01T00:00:00",
          "2019-01-01T00:00:00",
          "2020-01-01T00:00:00",
          "2020-01-01T00:00:00",
          "2020-01-01T00:00:00",
          "2020-01-01T00:00:00",
          "2020-01-01T00:00:00",
          "2020-01-01T00:00:00",
          "2020-01-01T00:00:00",
          "2020-01-01T00:00:00",
          "2020-01-01T00:00:00",
          "2020-01-01T00:00:00",
          "2020-01-01T00:00:00",
          "2020-01-01T00:00:00",
          "2020-01-01T00:00:00",
          "2020-01-01T00:00:00",
          "2020-01-01T00:00:00",
          "2020-01-01T00:00:00",
          "2020-01-01T00:00:00",
          "2021-01-01T00:00:00",
          "2021-01-01T00:00:00",
          "2021-01-01T00:00:00",
          "2021-01-01T00:00:00",
          "2021-01-01T00:00:00",
          "2021-01-01T00:00:00",
          "2021-01-01T00:00:00",
          "2021-01-01T00:00:00",
          "2021-01-01T00:00:00",
          "2021-01-01T00:00:00",
          "2021-01-01T00:00:00",
          "2021-01-01T00:00:00",
          "2021-01-01T00:00:00",
          "2021-01-01T00:00:00",
          "2021-01-01T00:00:00",
          "2021-01-01T00:00:00",
          "2021-01-01T00:00:00",
          "2021-01-01T00:00:00",
          "2021-01-01T00:00:00",
          "2021-01-01T00:00:00",
          "2021-01-01T00:00:00",
          "2021-01-01T00:00:00",
          "2022-01-01T00:00:00",
          "2022-01-01T00:00:00",
          "2022-01-01T00:00:00",
          "2022-01-01T00:00:00",
          "2022-01-01T00:00:00",
          "2022-01-01T00:00:00",
          "2022-01-01T00:00:00",
          "2022-01-01T00:00:00",
          "2022-01-01T00:00:00",
          "2022-01-01T00:00:00",
          "2022-01-01T00:00:00",
          "2022-01-01T00:00:00",
          "2022-01-01T00:00:00",
          "2022-01-01T00:00:00",
          "2022-01-01T00:00:00",
          "2022-01-01T00:00:00",
          "2022-01-01T00:00:00",
          "2022-01-01T00:00:00",
          "2022-01-01T00:00:00",
          "2022-01-01T00:00:00",
          "2022-01-01T00:00:00",
          "2022-01-01T00:00:00"
         ],
         "xaxis": "x",
         "yaxis": "y"
        }
       ],
       "layout": {
        "barmode": "relative",
        "legend": {
         "tracegroupgap": 0
        },
        "margin": {
         "t": 60
        },
        "template": {
         "data": {
          "bar": [
           {
            "error_x": {
             "color": "#2a3f5f"
            },
            "error_y": {
             "color": "#2a3f5f"
            },
            "marker": {
             "line": {
              "color": "#E5ECF6",
              "width": 0.5
             },
             "pattern": {
              "fillmode": "overlay",
              "size": 10,
              "solidity": 0.2
             }
            },
            "type": "bar"
           }
          ],
          "barpolar": [
           {
            "marker": {
             "line": {
              "color": "#E5ECF6",
              "width": 0.5
             },
             "pattern": {
              "fillmode": "overlay",
              "size": 10,
              "solidity": 0.2
             }
            },
            "type": "barpolar"
           }
          ],
          "carpet": [
           {
            "aaxis": {
             "endlinecolor": "#2a3f5f",
             "gridcolor": "white",
             "linecolor": "white",
             "minorgridcolor": "white",
             "startlinecolor": "#2a3f5f"
            },
            "baxis": {
             "endlinecolor": "#2a3f5f",
             "gridcolor": "white",
             "linecolor": "white",
             "minorgridcolor": "white",
             "startlinecolor": "#2a3f5f"
            },
            "type": "carpet"
           }
          ],
          "choropleth": [
           {
            "colorbar": {
             "outlinewidth": 0,
             "ticks": ""
            },
            "type": "choropleth"
           }
          ],
          "contour": [
           {
            "colorbar": {
             "outlinewidth": 0,
             "ticks": ""
            },
            "colorscale": [
             [
              0,
              "#0d0887"
             ],
             [
              0.1111111111111111,
              "#46039f"
             ],
             [
              0.2222222222222222,
              "#7201a8"
             ],
             [
              0.3333333333333333,
              "#9c179e"
             ],
             [
              0.4444444444444444,
              "#bd3786"
             ],
             [
              0.5555555555555556,
              "#d8576b"
             ],
             [
              0.6666666666666666,
              "#ed7953"
             ],
             [
              0.7777777777777778,
              "#fb9f3a"
             ],
             [
              0.8888888888888888,
              "#fdca26"
             ],
             [
              1,
              "#f0f921"
             ]
            ],
            "type": "contour"
           }
          ],
          "contourcarpet": [
           {
            "colorbar": {
             "outlinewidth": 0,
             "ticks": ""
            },
            "type": "contourcarpet"
           }
          ],
          "heatmap": [
           {
            "colorbar": {
             "outlinewidth": 0,
             "ticks": ""
            },
            "colorscale": [
             [
              0,
              "#0d0887"
             ],
             [
              0.1111111111111111,
              "#46039f"
             ],
             [
              0.2222222222222222,
              "#7201a8"
             ],
             [
              0.3333333333333333,
              "#9c179e"
             ],
             [
              0.4444444444444444,
              "#bd3786"
             ],
             [
              0.5555555555555556,
              "#d8576b"
             ],
             [
              0.6666666666666666,
              "#ed7953"
             ],
             [
              0.7777777777777778,
              "#fb9f3a"
             ],
             [
              0.8888888888888888,
              "#fdca26"
             ],
             [
              1,
              "#f0f921"
             ]
            ],
            "type": "heatmap"
           }
          ],
          "heatmapgl": [
           {
            "colorbar": {
             "outlinewidth": 0,
             "ticks": ""
            },
            "colorscale": [
             [
              0,
              "#0d0887"
             ],
             [
              0.1111111111111111,
              "#46039f"
             ],
             [
              0.2222222222222222,
              "#7201a8"
             ],
             [
              0.3333333333333333,
              "#9c179e"
             ],
             [
              0.4444444444444444,
              "#bd3786"
             ],
             [
              0.5555555555555556,
              "#d8576b"
             ],
             [
              0.6666666666666666,
              "#ed7953"
             ],
             [
              0.7777777777777778,
              "#fb9f3a"
             ],
             [
              0.8888888888888888,
              "#fdca26"
             ],
             [
              1,
              "#f0f921"
             ]
            ],
            "type": "heatmapgl"
           }
          ],
          "histogram": [
           {
            "marker": {
             "pattern": {
              "fillmode": "overlay",
              "size": 10,
              "solidity": 0.2
             }
            },
            "type": "histogram"
           }
          ],
          "histogram2d": [
           {
            "colorbar": {
             "outlinewidth": 0,
             "ticks": ""
            },
            "colorscale": [
             [
              0,
              "#0d0887"
             ],
             [
              0.1111111111111111,
              "#46039f"
             ],
             [
              0.2222222222222222,
              "#7201a8"
             ],
             [
              0.3333333333333333,
              "#9c179e"
             ],
             [
              0.4444444444444444,
              "#bd3786"
             ],
             [
              0.5555555555555556,
              "#d8576b"
             ],
             [
              0.6666666666666666,
              "#ed7953"
             ],
             [
              0.7777777777777778,
              "#fb9f3a"
             ],
             [
              0.8888888888888888,
              "#fdca26"
             ],
             [
              1,
              "#f0f921"
             ]
            ],
            "type": "histogram2d"
           }
          ],
          "histogram2dcontour": [
           {
            "colorbar": {
             "outlinewidth": 0,
             "ticks": ""
            },
            "colorscale": [
             [
              0,
              "#0d0887"
             ],
             [
              0.1111111111111111,
              "#46039f"
             ],
             [
              0.2222222222222222,
              "#7201a8"
             ],
             [
              0.3333333333333333,
              "#9c179e"
             ],
             [
              0.4444444444444444,
              "#bd3786"
             ],
             [
              0.5555555555555556,
              "#d8576b"
             ],
             [
              0.6666666666666666,
              "#ed7953"
             ],
             [
              0.7777777777777778,
              "#fb9f3a"
             ],
             [
              0.8888888888888888,
              "#fdca26"
             ],
             [
              1,
              "#f0f921"
             ]
            ],
            "type": "histogram2dcontour"
           }
          ],
          "mesh3d": [
           {
            "colorbar": {
             "outlinewidth": 0,
             "ticks": ""
            },
            "type": "mesh3d"
           }
          ],
          "parcoords": [
           {
            "line": {
             "colorbar": {
              "outlinewidth": 0,
              "ticks": ""
             }
            },
            "type": "parcoords"
           }
          ],
          "pie": [
           {
            "automargin": true,
            "type": "pie"
           }
          ],
          "scatter": [
           {
            "fillpattern": {
             "fillmode": "overlay",
             "size": 10,
             "solidity": 0.2
            },
            "type": "scatter"
           }
          ],
          "scatter3d": [
           {
            "line": {
             "colorbar": {
              "outlinewidth": 0,
              "ticks": ""
             }
            },
            "marker": {
             "colorbar": {
              "outlinewidth": 0,
              "ticks": ""
             }
            },
            "type": "scatter3d"
           }
          ],
          "scattercarpet": [
           {
            "marker": {
             "colorbar": {
              "outlinewidth": 0,
              "ticks": ""
             }
            },
            "type": "scattercarpet"
           }
          ],
          "scattergeo": [
           {
            "marker": {
             "colorbar": {
              "outlinewidth": 0,
              "ticks": ""
             }
            },
            "type": "scattergeo"
           }
          ],
          "scattergl": [
           {
            "marker": {
             "colorbar": {
              "outlinewidth": 0,
              "ticks": ""
             }
            },
            "type": "scattergl"
           }
          ],
          "scattermapbox": [
           {
            "marker": {
             "colorbar": {
              "outlinewidth": 0,
              "ticks": ""
             }
            },
            "type": "scattermapbox"
           }
          ],
          "scatterpolar": [
           {
            "marker": {
             "colorbar": {
              "outlinewidth": 0,
              "ticks": ""
             }
            },
            "type": "scatterpolar"
           }
          ],
          "scatterpolargl": [
           {
            "marker": {
             "colorbar": {
              "outlinewidth": 0,
              "ticks": ""
             }
            },
            "type": "scatterpolargl"
           }
          ],
          "scatterternary": [
           {
            "marker": {
             "colorbar": {
              "outlinewidth": 0,
              "ticks": ""
             }
            },
            "type": "scatterternary"
           }
          ],
          "surface": [
           {
            "colorbar": {
             "outlinewidth": 0,
             "ticks": ""
            },
            "colorscale": [
             [
              0,
              "#0d0887"
             ],
             [
              0.1111111111111111,
              "#46039f"
             ],
             [
              0.2222222222222222,
              "#7201a8"
             ],
             [
              0.3333333333333333,
              "#9c179e"
             ],
             [
              0.4444444444444444,
              "#bd3786"
             ],
             [
              0.5555555555555556,
              "#d8576b"
             ],
             [
              0.6666666666666666,
              "#ed7953"
             ],
             [
              0.7777777777777778,
              "#fb9f3a"
             ],
             [
              0.8888888888888888,
              "#fdca26"
             ],
             [
              1,
              "#f0f921"
             ]
            ],
            "type": "surface"
           }
          ],
          "table": [
           {
            "cells": {
             "fill": {
              "color": "#EBF0F8"
             },
             "line": {
              "color": "white"
             }
            },
            "header": {
             "fill": {
              "color": "#C8D4E3"
             },
             "line": {
              "color": "white"
             }
            },
            "type": "table"
           }
          ]
         },
         "layout": {
          "annotationdefaults": {
           "arrowcolor": "#2a3f5f",
           "arrowhead": 0,
           "arrowwidth": 1
          },
          "autotypenumbers": "strict",
          "coloraxis": {
           "colorbar": {
            "outlinewidth": 0,
            "ticks": ""
           }
          },
          "colorscale": {
           "diverging": [
            [
             0,
             "#8e0152"
            ],
            [
             0.1,
             "#c51b7d"
            ],
            [
             0.2,
             "#de77ae"
            ],
            [
             0.3,
             "#f1b6da"
            ],
            [
             0.4,
             "#fde0ef"
            ],
            [
             0.5,
             "#f7f7f7"
            ],
            [
             0.6,
             "#e6f5d0"
            ],
            [
             0.7,
             "#b8e186"
            ],
            [
             0.8,
             "#7fbc41"
            ],
            [
             0.9,
             "#4d9221"
            ],
            [
             1,
             "#276419"
            ]
           ],
           "sequential": [
            [
             0,
             "#0d0887"
            ],
            [
             0.1111111111111111,
             "#46039f"
            ],
            [
             0.2222222222222222,
             "#7201a8"
            ],
            [
             0.3333333333333333,
             "#9c179e"
            ],
            [
             0.4444444444444444,
             "#bd3786"
            ],
            [
             0.5555555555555556,
             "#d8576b"
            ],
            [
             0.6666666666666666,
             "#ed7953"
            ],
            [
             0.7777777777777778,
             "#fb9f3a"
            ],
            [
             0.8888888888888888,
             "#fdca26"
            ],
            [
             1,
             "#f0f921"
            ]
           ],
           "sequentialminus": [
            [
             0,
             "#0d0887"
            ],
            [
             0.1111111111111111,
             "#46039f"
            ],
            [
             0.2222222222222222,
             "#7201a8"
            ],
            [
             0.3333333333333333,
             "#9c179e"
            ],
            [
             0.4444444444444444,
             "#bd3786"
            ],
            [
             0.5555555555555556,
             "#d8576b"
            ],
            [
             0.6666666666666666,
             "#ed7953"
            ],
            [
             0.7777777777777778,
             "#fb9f3a"
            ],
            [
             0.8888888888888888,
             "#fdca26"
            ],
            [
             1,
             "#f0f921"
            ]
           ]
          },
          "colorway": [
           "#636efa",
           "#EF553B",
           "#00cc96",
           "#ab63fa",
           "#FFA15A",
           "#19d3f3",
           "#FF6692",
           "#B6E880",
           "#FF97FF",
           "#FECB52"
          ],
          "font": {
           "color": "#2a3f5f"
          },
          "geo": {
           "bgcolor": "white",
           "lakecolor": "white",
           "landcolor": "#E5ECF6",
           "showlakes": true,
           "showland": true,
           "subunitcolor": "white"
          },
          "hoverlabel": {
           "align": "left"
          },
          "hovermode": "closest",
          "mapbox": {
           "style": "light"
          },
          "paper_bgcolor": "white",
          "plot_bgcolor": "#E5ECF6",
          "polar": {
           "angularaxis": {
            "gridcolor": "white",
            "linecolor": "white",
            "ticks": ""
           },
           "bgcolor": "#E5ECF6",
           "radialaxis": {
            "gridcolor": "white",
            "linecolor": "white",
            "ticks": ""
           }
          },
          "scene": {
           "xaxis": {
            "backgroundcolor": "#E5ECF6",
            "gridcolor": "white",
            "gridwidth": 2,
            "linecolor": "white",
            "showbackground": true,
            "ticks": "",
            "zerolinecolor": "white"
           },
           "yaxis": {
            "backgroundcolor": "#E5ECF6",
            "gridcolor": "white",
            "gridwidth": 2,
            "linecolor": "white",
            "showbackground": true,
            "ticks": "",
            "zerolinecolor": "white"
           },
           "zaxis": {
            "backgroundcolor": "#E5ECF6",
            "gridcolor": "white",
            "gridwidth": 2,
            "linecolor": "white",
            "showbackground": true,
            "ticks": "",
            "zerolinecolor": "white"
           }
          },
          "shapedefaults": {
           "line": {
            "color": "#2a3f5f"
           }
          },
          "ternary": {
           "aaxis": {
            "gridcolor": "white",
            "linecolor": "white",
            "ticks": ""
           },
           "baxis": {
            "gridcolor": "white",
            "linecolor": "white",
            "ticks": ""
           },
           "bgcolor": "#E5ECF6",
           "caxis": {
            "gridcolor": "white",
            "linecolor": "white",
            "ticks": ""
           }
          },
          "title": {
           "x": 0.05
          },
          "xaxis": {
           "automargin": true,
           "gridcolor": "white",
           "linecolor": "white",
           "ticks": "",
           "title": {
            "standoff": 15
           },
           "zerolinecolor": "white",
           "zerolinewidth": 2
          },
          "yaxis": {
           "automargin": true,
           "gridcolor": "white",
           "linecolor": "white",
           "ticks": "",
           "title": {
            "standoff": 15
           },
           "zerolinecolor": "white",
           "zerolinewidth": 2
          }
         }
        },
        "title": {
         "text": "Races Per Year"
        },
        "xaxis": {
         "anchor": "y",
         "domain": [
          0,
          1
         ],
         "title": {
          "text": "Year"
         }
        },
        "yaxis": {
         "anchor": "x",
         "domain": [
          0,
          1
         ],
         "title": {
          "text": "Number of Races"
         }
        }
       }
      }
     },
     "metadata": {},
     "output_type": "display_data"
    }
   ],
   "source": [
    "# filter to prevent counting duplicate races\n",
    "races = race_results[['season', 'round']].drop_duplicates()\n",
    "\n",
    "# create hist\n",
    "fig = px.histogram(races, x='season', nbins=73) \n",
    "\n",
    "# Update the layout\n",
    "fig.update_layout(\n",
    "    title='Races Per Year',\n",
    "    xaxis=dict(title='Year'),\n",
    "    yaxis=dict(title='Number of Races')\n",
    ")\n",
    "\n",
    "# Show the plot\n",
    "fig.show()"
   ]
  }
 ],
 "metadata": {
  "kernelspec": {
   "display_name": "Python 3",
   "language": "python",
   "name": "python3"
  },
  "language_info": {
   "codemirror_mode": {
    "name": "ipython",
    "version": 3
   },
   "file_extension": ".py",
   "mimetype": "text/x-python",
   "name": "python",
   "nbconvert_exporter": "python",
   "pygments_lexer": "ipython3",
   "version": "3.10.11"
  },
  "orig_nbformat": 4
 },
 "nbformat": 4,
 "nbformat_minor": 2
}
